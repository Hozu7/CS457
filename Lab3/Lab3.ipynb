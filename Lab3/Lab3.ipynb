{
 "cells": [
  {
   "cell_type": "markdown",
   "id": "488b8266",
   "metadata": {},
   "source": [
    "# Lab Assignment: Building a Neural Network from Scratch\n",
    "\n",
    "### Objective\n",
    "This lab guides you through the implementation of a simple feedforward neural network from scratch. \n",
    "By completing this lab, you will:\n",
    "- Initialize a neural network with weights and biases.\n",
    "- Compute the weighted sum at each node.\n",
    "- Apply activation functions for node outputs.\n",
    "- Perform forward propagation to compute predictions.\n",
    "- Implement backpropagation to compute gradients.\n",
    "- Update weights using gradients to minimize the loss."
   ]
  },
  {
   "cell_type": "markdown",
   "id": "2668a14e",
   "metadata": {},
   "source": [
    "## Step 1: Initialize the Network"
   ]
  },
  {
   "cell_type": "code",
   "execution_count": 29,
   "id": "396df339",
   "metadata": {},
   "outputs": [
    {
     "name": "stdout",
     "output_type": "stream",
     "text": [
      "Ajeje + Initialized Network: 0.95\n"
     ]
    }
   ],
   "source": [
    "import numpy as np\n",
    "np.random.seed(42) # For reproducibility\n",
    "\n",
    "def initialize_network(input_size, hidden_layers, output_size):\n",
    "    \n",
    "    num_nodes_previous = input_size # number of nodes in the previous layer\n",
    "\n",
    "    network = {}\n",
    "    \n",
    "    # loop through each layer and randomly initialize the weights and biases associated with each layer\n",
    "    for layer in range(len(hidden_layers) + 1):\n",
    "        \n",
    "        if layer == len(hidden_layers):\n",
    "            layer_name = 'output' # name last layer in the network output\n",
    "            num_nodes = output_size\n",
    "        else:\n",
    "            layer_name = 'layer_{}'.format(layer + 1) # otherwise give the layer a number\n",
    "            num_nodes = hidden_layers[layer] \n",
    "        \n",
    "        # initialize weights and bias for each node\n",
    "        network[layer_name] = {}\n",
    "        for node in range(num_nodes):\n",
    "            node_name = 'node_{}'.format(node+1)\n",
    "            network[layer_name][node_name] = {\n",
    "                'weights': np.around(np.random.uniform(size=num_nodes_previous), decimals=2),\n",
    "                'biases': np.around(np.random.uniform(size=1), decimals=2),\n",
    "            }\n",
    "    \n",
    "        num_nodes_previous = num_nodes\n",
    "\n",
    "    return network # return the network\n",
    "    \n",
    "\n",
    "# Initialize a network with 3 inputs, 2 hidden layers (4 and 3 nodes), and 1 output node\n",
    "network = initialize_network(3, [4, 3], 1) # 3 nodes for input, 7 nodes for hidden layer, 1 output node. 11 nodes, 8 biases\n",
    "print(\"Ajeje + Initialized Network:\", network['layer_1']['node_1']['weights'][1])"
   ]
  },
  {
   "cell_type": "markdown",
   "id": "3ecfdd84",
   "metadata": {},
   "source": [
    "## Step 2: Compute Weighted Sum"
   ]
  },
  {
   "cell_type": "code",
   "execution_count": 6,
   "id": "66c4ad58",
   "metadata": {},
   "outputs": [
    {
     "name": "stdout",
     "output_type": "stream",
     "text": [
      "Ajeje + Weighted Sum: [1.048]\n"
     ]
    }
   ],
   "source": [
    "def compute_weighted_sum(inputs, weights, biases):\n",
    "    return np.sum(inputs * weights) + biases # 1-D arrays so just do np.sum of inputs * weights\n",
    "    \n",
    "# Test weighted sum\n",
    "inputs = np.array([[0.5, 0.2, 0.1]])\n",
    "layer = network['layer_1']['node_1']  # First layer\n",
    "Z = compute_weighted_sum(inputs, layer['weights'], layer['biases'])\n",
    "print(\"Ajeje + Weighted Sum:\", Z)"
   ]
  },
  {
   "cell_type": "markdown",
   "id": "7d82553f",
   "metadata": {},
   "source": [
    "## Step 3: Compute Node Activation"
   ]
  },
  {
   "cell_type": "code",
   "execution_count": 9,
   "id": "36b00bf0",
   "metadata": {},
   "outputs": [
    {
     "name": "stdout",
     "output_type": "stream",
     "text": [
      "Ajeje + Activation: [0.74039066]\n"
     ]
    }
   ],
   "source": [
    "def sigmoid(Z):\n",
    "    return 1 / (1 + np.exp(-Z))\n",
    "\n",
    "\n",
    "def sigmoid_derivative(A):\n",
    "    return A * (1 - A)\n",
    "\n",
    "\n",
    "# Compute activation for the weighted sum\n",
    "A = sigmoid(Z)\n",
    "print(\"Ajeje + Activation:\", A)"
   ]
  },
  {
   "cell_type": "markdown",
   "id": "769f9c55",
   "metadata": {},
   "source": [
    "## Step 4: Perform Forward Propagation"
   ]
  },
  {
   "cell_type": "code",
   "execution_count": 12,
   "id": "5d2e9d28",
   "metadata": {},
   "outputs": [
    {
     "name": "stdout",
     "output_type": "stream",
     "text": [
      "[array([[0.5, 0.2, 0.1]]), array([0.74039066, 0.7286927 , 0.80439608, 0.65813632]), array([0.85167349, 0.84623151, 0.83715521]), array([0.87753786])]\n",
      "Ajeje + Final Output: [0.87753786]\n"
     ]
    }
   ],
   "source": [
    "def forward_propagation(inputs, network):\n",
    "    \"\"\"\n",
    "    Perform forward propagation through the network.\n",
    "    Arguments:\n",
    "        inputs: Input array.\n",
    "        network: Network dictionary with weights and biases.\n",
    "    Returns:\n",
    "        activations: List of activations for all layers.\n",
    "    \"\"\"\n",
    "    activations = [inputs]  # Start with the input layer\n",
    "    for layer in network.values():\n",
    "    #for layer in network.values():   \n",
    "        z = []\n",
    "        a = []\n",
    "        for node in layer.values():\n",
    "        #for node in layer.values():\n",
    "            z_value = np.dot(activations[-1], node['weights']) + node['biases']\n",
    "            z.append(z_value)\n",
    "            a.append(sigmoid(z_value))\n",
    "        activations.append(np.array(a).flatten())\n",
    "    return activations\n",
    "\n",
    "\n",
    "\n",
    "# Perform forward propagation\n",
    "activations = forward_propagation(inputs, network)\n",
    "print(activations)\n",
    "print(\"Ajeje + Final Output:\", activations[-1])"
   ]
  },
  {
   "cell_type": "markdown",
   "id": "e342f58d",
   "metadata": {},
   "source": [
    "## Step 5: Backpropagation"
   ]
  },
  {
   "cell_type": "code",
   "execution_count": 15,
   "id": "1ec4d75a",
   "metadata": {},
   "outputs": [
    {
     "name": "stdout",
     "output_type": "stream",
     "text": [
      "Ajeje + Gradients: {'layer_1': {'node_1': {'weights': array([0.38900709, 0.95760284, 0.73380142]), 'biases': array([0.63801418])}, 'node_2': {'weights': array([0.19276636, 0.17310654, 0.06655327]), 'biases': array([0.93553271])}, 'node_3': {'weights': array([0.62824126, 0.7212965 , 0.02564825]), 'biases': array([1.02648252])}, 'node_4': {'weights': array([0.8513955, 0.2185582, 0.1842791]), 'biases': array([0.22279101])}}, 'layer_2': {'node_1': {'weights': array([0.40732411, 0.62562842, 0.54660209, 0.38540085]), 'biases': array([0.75495606])}, 'node_2': {'weights': array([0.2396933 , 0.38811818, 0.47831161, 0.54861779]), 'biases': array([0.92464959])}, 'node_3': {'weights': array([0.3980216 , 0.70489292, 0.8051402 , 0.22602222]), 'biases': array([0.87745556])}}, 'output': {'node_1': {'weights': array([1.07722066, 0.97142374, 1.84175547]), 'biases': array([2.0352212])}}}\n"
     ]
    }
   ],
   "source": [
    "\n",
    "def backpropagation(network, activations, y_true, learning_rate):\n",
    "    \"\"\"\n",
    "    Perform backpropagation to compute gradients and update weights.\n",
    "    \n",
    "    Arguments:\n",
    "        network: Dictionary containing layers with weights and biases.\n",
    "        activations: List of activations from forward propagation.\n",
    "        y_true: Ground truth labels (numpy array).\n",
    "        learning_rate: Learning rate for weight updates.\n",
    "    \n",
    "    Returns:\n",
    "        network: Updated network with modified weights and biases.\n",
    "    \"\"\"\n",
    "    # Step 1: Compute delta for the output layer\n",
    "    delta_output = (activations[-1] - y_true) * sigmoid_derivative(activations[-1])  # Shape (1,)\n",
    "\n",
    "    # Initialize delta as the output layer delta\n",
    "    delta = delta_output.reshape(-1, 1)  # Ensure it's a column vector\n",
    "\n",
    "    # Step 2: Iterate through layers in reverse order (output -> hidden -> input)\n",
    "    for layer_idx in reversed(range(len(network))):\n",
    "        layer_name = list(network.keys())[layer_idx]\n",
    "        current_layer = network[layer_name]\n",
    "\n",
    "        if layer_name == 'output':\n",
    "            # Use precomputed delta for the output layer\n",
    "            pass\n",
    "        else:\n",
    "            # Get the next layer's weights\n",
    "            next_layer_name = list(network.keys())[layer_idx + 1]\n",
    "            next_layer = network[next_layer_name]\n",
    "\n",
    "            # Extract weight matrix from the next layer (ensuring correct shape)\n",
    "            weight_matrix = np.array([node['weights'] for node in next_layer.values()])  # Shape (next_layer_nodes, current_layer_nodes)\n",
    "\n",
    "            # Compute delta for the current layer (ensure correct shape)\n",
    "            delta = np.dot(weight_matrix.T, delta).flatten() * sigmoid_derivative(activations[layer_idx + 1])\n",
    "\n",
    "        # Step 3: Update weights and biases for the current layer\n",
    "        for node_idx, (node_name, node_data) in enumerate(current_layer.items()):\n",
    "            a_prev = activations[layer_idx]  # Activations from the previous layer\n",
    "            \n",
    "            # Fix gradient shape for proper weight update\n",
    "            dW = delta[node_idx] * a_prev.reshape(-1)  # Broadcasting fix\n",
    "            db = delta[node_idx]  # Gradient for biases\n",
    "\n",
    "            # Update weights and biases using gradient descent\n",
    "            current_layer[node_name]['weights'] -= learning_rate * dW\n",
    "            current_layer[node_name]['biases'] -= learning_rate * db\n",
    "\n",
    "    return network\n",
    "\n",
    "# Compute gradients\n",
    "y_true = np.array([100])  # Example target output\n",
    "learning_rate = 0.1\n",
    "gradients = backpropagation(network, activations, y_true, learning_rate)\n",
    "print(\"Ajeje + Gradients:\", gradients)\n"
   ]
  },
  {
   "cell_type": "markdown",
   "id": "d6b81797-9f82-493a-a509-b1360f04071c",
   "metadata": {},
   "source": [
    "## Step 6: Update Weights"
   ]
  },
  {
   "cell_type": "code",
   "execution_count": 18,
   "id": "33990e4e-9a02-4728-9ff5-fc41e7ef42be",
   "metadata": {},
   "outputs": [],
   "source": [
    "# def update_weights(network, gradients, learning_rate):\n",
    "    # Hints: weights -= learning_rate * 'dW'\n",
    "    # Hints: biases -= learning_rate * 'db'\n",
    "    # Provide your code\n",
    "  \n",
    "\n",
    "# Update weights with a learning rate of 0.1\n",
    "# update_weights(network, gradients, learning_rate=0.1)\n",
    "# print(\"Ajeje + Updated Network:\", network)\n",
    "# Update weights within backpropagation"
   ]
  },
  {
   "cell_type": "markdown",
   "id": "ed55add1",
   "metadata": {},
   "source": [
    "## Step 7: Visualizing Loss Changes"
   ]
  },
  {
   "cell_type": "code",
   "execution_count": 21,
   "id": "9fe355dc",
   "metadata": {},
   "outputs": [],
   "source": [
    "# Use MSE to compute the loss \n",
    "def compute_loss(y_true, y_pred):\n",
    "    \"\"\"\n",
    "    Compute the Mean Squared Error (MSE) loss.\n",
    "    Arguments:\n",
    "        y_true: Ground truth labels (numpy array).\n",
    "        y_pred: Predicted output from the network (numpy array).\n",
    "    Returns:\n",
    "        Mean Squared Error (scalar value).\n",
    "    \"\"\"\n",
    "    return np.mean((y_true - y_pred) ** 2)\n"
   ]
  },
  {
   "cell_type": "code",
   "execution_count": 23,
   "id": "f7270921",
   "metadata": {},
   "outputs": [
    {
     "data": {
      "image/png": "[encoded data removed]",
      "text/plain": [
       "<Figure size 640x480 with 1 Axes>"
      ]
     },
     "metadata": {},
     "output_type": "display_data"
    }
   ],
   "source": [
    "import matplotlib.pyplot as plt\n",
    "\n",
    "# Training Loop\n",
    "losses = []\n",
    "inputs = np.array([[0.5, 0.2, 0.1]])\n",
    "y_true = np.array([[1]])\n",
    "learning_rate = 0.1\n",
    "\n",
    "for iteration in range(100):\n",
    "    # Step 1: Perform forward propagation to compute the network's predictions\n",
    "    activations = forward_propagation(inputs, network)  # Forward pass\n",
    "    \n",
    "    # Step 2: Compute the loss (error) between the true labels and the predicted output\n",
    "    loss = compute_loss(y_true, activations[-1])  # Loss for the current iteration\n",
    "    losses.append(loss)  # Append the computed loss to the list\n",
    "    \n",
    "    # Step 3: Perform backpropagation to compute gradients and update weights\n",
    "    network = backpropagation(network, activations, y_true, learning_rate)\n",
    "\n",
    "    \n",
    "    \n",
    "# Plot Loss and rerun all cells\n",
    "plt.plot(losses)\n",
    "plt.title(\"Ajeje + Loss Before and After Weight Updates\")\n",
    "plt.xlabel(\"Iterations\")\n",
    "plt.ylabel(\"Loss\")\n",
    "plt.show()\n"
   ]
  },
  {
   "cell_type": "markdown",
   "id": "737f4b49-9f2b-4e5c-8f75-cb102fc858e0",
   "metadata": {},
   "source": [
    "### Step 8: Visualizing Gradients Changes (Graduate students)"
   ]
  },
  {
   "cell_type": "markdown",
   "id": "42a89b54-adeb-4a5d-89b2-1883ce9634a7",
   "metadata": {},
   "source": [
    "Please pick a weight and plot the gradient change\n",
    "\n",
    "You need to point which weight you pick and label it on your graph."
   ]
  },
  {
   "cell_type": "code",
   "execution_count": null,
   "id": "124fa924-af4f-47b1-bf33-1bf047d54036",
   "metadata": {},
   "outputs": [],
   "source": []
  }
 ],
 "metadata": {
  "kernelspec": {
   "display_name": "Python [conda env:base] *",
   "language": "python",
   "name": "conda-base-py"
  },
  "language_info": {
   "codemirror_mode": {
    "name": "ipython",
    "version": 3
   },
   "file_extension": ".py",
   "mimetype": "text/x-python",
   "name": "python",
   "nbconvert_exporter": "python",
   "pygments_lexer": "ipython3",
   "version": "3.12.7"
  }
 },
 "nbformat": 4,
 "nbformat_minor": 5
}
