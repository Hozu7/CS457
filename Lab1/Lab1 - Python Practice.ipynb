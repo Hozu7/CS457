{
 "cells": [
  {
   "cell_type": "markdown",
   "metadata": {},
   "source": [
    "# Exercises with Python"
   ]
  },
  {
   "cell_type": "code",
   "execution_count": 2,
   "metadata": {},
   "outputs": [],
   "source": [
    "import numpy as np\n",
    "import matplotlib.pyplot as plt\n",
    "import pandas as pd"
   ]
  },
  {
   "cell_type": "markdown",
   "metadata": {},
   "source": [
    "## Exercise 1 - Numpy\n",
    "#### Creat an array of 450 random integers between -10 and 10"
   ]
  },
  {
   "cell_type": "code",
   "execution_count": 4,
   "metadata": {},
   "outputs": [
    {
     "data": {
      "text/plain": [
       "array([ -9,  -1,  -9,  -2,   2,  -5,   6,   1,  -1,  -8,   4,   0,  -9,\n",
       "         9,   4,  10,  -8,  -9,  -2, -10,   9,   1,  -5,  -9,  -1,  -6,\n",
       "         9,  -8,  -2,  -5,   6,   1,  -9,  -9,   6,   1,   7,  -4,  -7,\n",
       "        -3, -10,  -6,  -7,  -5,  -4,  -3,  -2,  -3,   8,  -7,  -2,  -1,\n",
       "       -10,  -9,  -2,  -1,  -7,   4,   2,  -8,  -3,  -3, -10,  -8,   0,\n",
       "        -8, -10,  -1,   1,  -4,  -8,  -9,  -4,  -8,   9,  -5,   0,   8,\n",
       "        -9,   6,  -4,   9,  -7,   7,  -4,   5,   4,  -5,  -8,   8,  10,\n",
       "        -2,  -3,  -9,  -1,   9,  -3,  -1,   2,   0,   2,  10,  -7,  -5,\n",
       "         3,  -4,   7,   8,   1,  10,  -2,  -4,  -9,  -5,   3,  -5,  -2,\n",
       "        -4, -10,   1,   7,   6,  -4,  -1,   9,   2,  -4,   7,   4,   7,\n",
       "        10,  -2,  -6,  -9,  -3, -10,  -7,   4,   0,  -6,   7,   1,  -5,\n",
       "         0,  -2,   4,   4,  -4,  -6,   0,   9,  -8,  -8,   1,  -3,   2,\n",
       "         8,  10,   9,  10,   3,   5,   3,   6,   2,  -8,  -8,   7,  -5,\n",
       "        -9,   4,   5,   5,   4,  -7,  -8,  10,   2,  -6, -10,  -2,   7,\n",
       "        -7,   4,   1,   6, -10,   7,  -3,   5,   9,  -2,   1,  -5,   9,\n",
       "         7,   9,  -4,   2,   5,  -6, -10,   1,   0,   4,  -8, -10,   1,\n",
       "        -3,   7,  -6,  -7,   2,  -9,   1,   6,  -6,  -8,  -9,   0,  -3,\n",
       "        -2,   1,   1,   7,   0,  -7,  10,   9,   0,  -8,   2,  -2,   2,\n",
       "        -2, -10,  -7, -10,  -9,   5,   9,   6,  10,  10, -10,   3,   4,\n",
       "        -2,   0,  -2,  -7,  -3,  -2,   4,  -2,  -3,  -3,  10, -10,  -8,\n",
       "         8,   7,  -2,   4,  -8,   6,  -8,  -4,  -7,   1,   7,  -5,   6,\n",
       "        -2,   4,  -7,   9,  -2,   5,   2,   7,   9,  -7,   2,  10,   3,\n",
       "        -9,   7,   6,  -8,   7,   7,   2,   8,   3,  10,   0,  -3,  -8,\n",
       "         7,  -2,  10,   5,  10,  -4,  -1,  -5,  10,   4,  -9,  -6,   5,\n",
       "         6, -10,   9,  -9,  -3,   1, -10,   7, -10,   8,   1,  -8,   4,\n",
       "         2,   8,  -4,   0,   5,   8,  -9,   3,   8,   2,  10,  -1,  -5,\n",
       "        -4,   1,   4,   8,   4,   6,  10,  -8,   4,  -4,  -8,   6,   4,\n",
       "        -6,  -2,  -7,   0,  -4,   6,   9,  -7, -10,  -1,   0,  -8,   1,\n",
       "         4,  -7,  -9, -10,  -2,   5,  -6,   1,   0,  -9,  -2, -10,  -5,\n",
       "        -3,   6,   8,   5,   4,   2,  -1,  10,   3,  10,  -1,  -5,  -6,\n",
       "         6, -10,   2,   2,   1,   5,   2,  -4, -10,  -7,   6,   4,   2,\n",
       "        -2,   1,   6,  -7,   6,   6,  -1, -10,  -8,   1,  -4,  -7,  -8,\n",
       "        -4,  -1,  -8,  -1,   0,  -4,  -5,   5,  -2,  -9,   8,  -8,  -2,\n",
       "         4,  -5,   8,  10,   5,   0,   7,  -5,   7,   5,   9,   1,  10,\n",
       "         7,   8,  -7,  10,  -4,   9,  -4,   7])"
      ]
     },
     "execution_count": 4,
     "metadata": {},
     "output_type": "execute_result"
    }
   ],
   "source": [
    "array = np.random.randint(-10, 11, size = 450)\n",
    "\n",
    "array"
   ]
  },
  {
   "cell_type": "markdown",
   "metadata": {},
   "source": [
    "#### Resize the above array as a 5x70 matrix. \n",
    "#### Is there a problem? \n",
    "\n",
    "#### If there is, correct it to a suitable shape.\n",
    "\n",
    "We check what dimension our array has:"
   ]
  },
  {
   "cell_type": "code",
   "execution_count": 28,
   "metadata": {},
   "outputs": [
    {
     "name": "stdout",
     "output_type": "stream",
     "text": [
      "(450,)\n"
     ]
    },
    {
     "ename": "ValueError",
     "evalue": "cannot reshape array of size 450 into shape (5,70)",
     "output_type": "error",
     "traceback": [
      "\u001b[1;31m---------------------------------------------------------------------------\u001b[0m",
      "\u001b[1;31mValueError\u001b[0m                                Traceback (most recent call last)",
      "Cell \u001b[1;32mIn[28], line 3\u001b[0m\n\u001b[0;32m      1\u001b[0m \u001b[38;5;66;03m# Failed attempt to reshape \u001b[39;00m\n\u001b[0;32m      2\u001b[0m \u001b[38;5;28mprint\u001b[39m(array\u001b[38;5;241m.\u001b[39mshape)\n\u001b[1;32m----> 3\u001b[0m new_matrix \u001b[38;5;241m=\u001b[39m array\u001b[38;5;241m.\u001b[39mreshape((\u001b[38;5;241m5\u001b[39m, \u001b[38;5;241m70\u001b[39m))\n",
      "\u001b[1;31mValueError\u001b[0m: cannot reshape array of size 450 into shape (5,70)"
     ]
    }
   ],
   "source": [
    "# Failed attempt to reshape \n",
    "print(array.shape)\n",
    "new_matrix = array.reshape((5, 70))\n",
    "# Is there a problem? why? 5*70 = 350; need 100 more or to drop 100 integers from array\n",
    "# I'll reshape in 5x90\n",
    "\n"
   ]
  },
  {
   "cell_type": "code",
   "execution_count": 30,
   "metadata": {},
   "outputs": [
    {
     "data": {
      "text/plain": [
       "(450,)"
      ]
     },
     "execution_count": 30,
     "metadata": {},
     "output_type": "execute_result"
    }
   ],
   "source": [
    "array.shape"
   ]
  },
  {
   "cell_type": "markdown",
   "metadata": {},
   "source": [
    "We resize:"
   ]
  },
  {
   "cell_type": "code",
   "execution_count": 33,
   "metadata": {},
   "outputs": [
    {
     "data": {
      "text/plain": [
       "array([[ -9,  -1,  -9,  -2,   2,  -5,   6,   1,  -1,  -8,   4,   0,  -9,\n",
       "          9,   4,  10,  -8,  -9,  -2, -10,   9,   1,  -5,  -9,  -1,  -6,\n",
       "          9,  -8,  -2,  -5,   6,   1,  -9,  -9,   6,   1,   7,  -4,  -7,\n",
       "         -3, -10,  -6,  -7,  -5,  -4,  -3,  -2,  -3,   8,  -7,  -2,  -1,\n",
       "        -10,  -9,  -2,  -1,  -7,   4,   2,  -8,  -3,  -3, -10,  -8,   0,\n",
       "         -8, -10,  -1,   1,  -4,  -8,  -9,  -4,  -8,   9,  -5,   0,   8,\n",
       "         -9,   6,  -4,   9,  -7,   7,  -4,   5,   4,  -5,  -8,   8],\n",
       "       [ 10,  -2,  -3,  -9,  -1,   9,  -3,  -1,   2,   0,   2,  10,  -7,\n",
       "         -5,   3,  -4,   7,   8,   1,  10,  -2,  -4,  -9,  -5,   3,  -5,\n",
       "         -2,  -4, -10,   1,   7,   6,  -4,  -1,   9,   2,  -4,   7,   4,\n",
       "          7,  10,  -2,  -6,  -9,  -3, -10,  -7,   4,   0,  -6,   7,   1,\n",
       "         -5,   0,  -2,   4,   4,  -4,  -6,   0,   9,  -8,  -8,   1,  -3,\n",
       "          2,   8,  10,   9,  10,   3,   5,   3,   6,   2,  -8,  -8,   7,\n",
       "         -5,  -9,   4,   5,   5,   4,  -7,  -8,  10,   2,  -6, -10],\n",
       "       [ -2,   7,  -7,   4,   1,   6, -10,   7,  -3,   5,   9,  -2,   1,\n",
       "         -5,   9,   7,   9,  -4,   2,   5,  -6, -10,   1,   0,   4,  -8,\n",
       "        -10,   1,  -3,   7,  -6,  -7,   2,  -9,   1,   6,  -6,  -8,  -9,\n",
       "          0,  -3,  -2,   1,   1,   7,   0,  -7,  10,   9,   0,  -8,   2,\n",
       "         -2,   2,  -2, -10,  -7, -10,  -9,   5,   9,   6,  10,  10, -10,\n",
       "          3,   4,  -2,   0,  -2,  -7,  -3,  -2,   4,  -2,  -3,  -3,  10,\n",
       "        -10,  -8,   8,   7,  -2,   4,  -8,   6,  -8,  -4,  -7,   1],\n",
       "       [  7,  -5,   6,  -2,   4,  -7,   9,  -2,   5,   2,   7,   9,  -7,\n",
       "          2,  10,   3,  -9,   7,   6,  -8,   7,   7,   2,   8,   3,  10,\n",
       "          0,  -3,  -8,   7,  -2,  10,   5,  10,  -4,  -1,  -5,  10,   4,\n",
       "         -9,  -6,   5,   6, -10,   9,  -9,  -3,   1, -10,   7, -10,   8,\n",
       "          1,  -8,   4,   2,   8,  -4,   0,   5,   8,  -9,   3,   8,   2,\n",
       "         10,  -1,  -5,  -4,   1,   4,   8,   4,   6,  10,  -8,   4,  -4,\n",
       "         -8,   6,   4,  -6,  -2,  -7,   0,  -4,   6,   9,  -7, -10],\n",
       "       [ -1,   0,  -8,   1,   4,  -7,  -9, -10,  -2,   5,  -6,   1,   0,\n",
       "         -9,  -2, -10,  -5,  -3,   6,   8,   5,   4,   2,  -1,  10,   3,\n",
       "         10,  -1,  -5,  -6,   6, -10,   2,   2,   1,   5,   2,  -4, -10,\n",
       "         -7,   6,   4,   2,  -2,   1,   6,  -7,   6,   6,  -1, -10,  -8,\n",
       "          1,  -4,  -7,  -8,  -4,  -1,  -8,  -1,   0,  -4,  -5,   5,  -2,\n",
       "         -9,   8,  -8,  -2,   4,  -5,   8,  10,   5,   0,   7,  -5,   7,\n",
       "          5,   9,   1,  10,   7,   8,  -7,  10,  -4,   9,  -4,   7]])"
      ]
     },
     "execution_count": 33,
     "metadata": {},
     "output_type": "execute_result"
    }
   ],
   "source": [
    "corrected_matrix = array.reshape((5, 90))# your code \n",
    "corrected_matrix\n"
   ]
  },
  {
   "cell_type": "markdown",
   "metadata": {},
   "source": [
    "#### Choose values greater than 0 from your corrected_matrix."
   ]
  },
  {
   "cell_type": "code",
   "execution_count": 36,
   "metadata": {},
   "outputs": [
    {
     "data": {
      "text/plain": [
       "array([ 2,  6,  1,  4,  9,  4, 10,  9,  1,  9,  6,  1,  6,  1,  7,  8,  4,\n",
       "        2,  1,  9,  8,  6,  9,  7,  5,  4,  8, 10,  9,  2,  2, 10,  3,  7,\n",
       "        8,  1, 10,  3,  1,  7,  6,  9,  2,  7,  4,  7, 10,  4,  7,  1,  4,\n",
       "        4,  9,  1,  2,  8, 10,  9, 10,  3,  5,  3,  6,  2,  7,  4,  5,  5,\n",
       "        4, 10,  2,  7,  4,  1,  6,  7,  5,  9,  1,  9,  7,  9,  2,  5,  1,\n",
       "        4,  1,  7,  2,  1,  6,  1,  1,  7, 10,  9,  2,  2,  5,  9,  6, 10,\n",
       "       10,  3,  4,  4, 10,  8,  7,  4,  6,  1,  7,  6,  4,  9,  5,  2,  7,\n",
       "        9,  2, 10,  3,  7,  6,  7,  7,  2,  8,  3, 10,  7, 10,  5, 10, 10,\n",
       "        4,  5,  6,  9,  1,  7,  8,  1,  4,  2,  8,  5,  8,  3,  8,  2, 10,\n",
       "        1,  4,  8,  4,  6, 10,  4,  6,  4,  6,  9,  1,  4,  5,  1,  6,  8,\n",
       "        5,  4,  2, 10,  3, 10,  6,  2,  2,  1,  5,  2,  6,  4,  2,  1,  6,\n",
       "        6,  6,  1,  5,  8,  4,  8, 10,  5,  7,  7,  5,  9,  1, 10,  7,  8,\n",
       "       10,  9,  7])"
      ]
     },
     "execution_count": 36,
     "metadata": {},
     "output_type": "execute_result"
    }
   ],
   "source": [
    "# Using boolean indexing\n",
    "positive_values = corrected_matrix[corrected_matrix>0]\n",
    "positive_values"
   ]
  },
  {
   "cell_type": "markdown",
   "metadata": {},
   "source": [
    "#### Given this array x = np.array ([- 5,6, -7,9]), create another array in absolute value "
   ]
  },
  {
   "cell_type": "code",
   "execution_count": 39,
   "metadata": {},
   "outputs": [
    {
     "data": {
      "text/plain": [
       "array([5, 6, 7, 9])"
      ]
     },
     "execution_count": 39,
     "metadata": {},
     "output_type": "execute_result"
    }
   ],
   "source": [
    "x = np.array ([- 5,6, -7,9])\n",
    "# your code:\n",
    "abs_array = np.abs(x)\n",
    "abs_array"
   ]
  },
  {
   "cell_type": "markdown",
   "metadata": {},
   "source": [
    "#### Given this array x = np.array ([- 5,6, -7,9]), transform it into a 2x2 matrix and calculate the maximum and minimum of each row and column. "
   ]
  },
  {
   "cell_type": "code",
   "execution_count": 42,
   "metadata": {},
   "outputs": [
    {
     "data": {
      "text/plain": [
       "(array([[-5,  6],\n",
       "        [-7,  9]]),\n",
       " -5,\n",
       " 6,\n",
       " -7,\n",
       " 9)"
      ]
     },
     "execution_count": 42,
     "metadata": {},
     "output_type": "execute_result"
    }
   ],
   "source": [
    "x_reshaped = x.reshape((2,2))\n",
    "minA = np.min(x_reshaped[0]) # Min row 0\n",
    "maxA = np.max(x_reshaped[0]) # Max row 0\n",
    "minB = np.min(x_reshaped[1]) # Min row 1\n",
    "maxB = np.max(x_reshaped[1]) # Max row 1\n",
    "x_reshaped, minA, maxA, minB, maxB"
   ]
  },
  {
   "cell_type": "markdown",
   "metadata": {},
   "source": [
    "#### Create a matrix of ones with 3x3 range as a_ones, and modify the the a_ones[1][0] = 3  "
   ]
  },
  {
   "cell_type": "code",
   "execution_count": 45,
   "metadata": {},
   "outputs": [
    {
     "data": {
      "text/plain": [
       "array([[1., 1., 1.],\n",
       "       [3., 1., 1.],\n",
       "       [1., 1., 1.]])"
      ]
     },
     "execution_count": 45,
     "metadata": {},
     "output_type": "execute_result"
    }
   ],
   "source": [
    "a_ones = np.ones((3,3))\n",
    "a_ones[1][0] = 3\n",
    "a_ones"
   ]
  },
  {
   "cell_type": "markdown",
   "metadata": {},
   "source": [
    "#### Compute dot product for a_ones and x_reshaped"
   ]
  },
  {
   "cell_type": "code",
   "execution_count": 48,
   "metadata": {},
   "outputs": [
    {
     "ename": "ValueError",
     "evalue": "shapes (3,3) and (2,2) not aligned: 3 (dim 1) != 2 (dim 0)",
     "output_type": "error",
     "traceback": [
      "\u001b[1;31m---------------------------------------------------------------------------\u001b[0m",
      "\u001b[1;31mValueError\u001b[0m                                Traceback (most recent call last)",
      "Cell \u001b[1;32mIn[48], line 1\u001b[0m\n\u001b[1;32m----> 1\u001b[0m y \u001b[38;5;241m=\u001b[39m np\u001b[38;5;241m.\u001b[39mdot(a_ones, x_reshaped) \u001b[38;5;66;03m# this is the code, however, the dot product can't be calculated because M1 is JxJ and M2 is KxK\u001b[39;00m\n\u001b[0;32m      2\u001b[0m y\n",
      "\u001b[1;31mValueError\u001b[0m: shapes (3,3) and (2,2) not aligned: 3 (dim 1) != 2 (dim 0)"
     ]
    }
   ],
   "source": [
    "y = np.dot(a_ones, x_reshaped) # this is the code, however, the dot product can't be calculated because M1 is JxJ and M2 is KxK\n",
    "y"
   ]
  },
  {
   "cell_type": "markdown",
   "metadata": {},
   "source": [
    "## Exercise 2 - Plot Practice"
   ]
  },
  {
   "cell_type": "markdown",
   "metadata": {},
   "source": [
    "#### Undergraduate student Instructions (CS457)\n",
    "\n",
    "- Let's think if we have this function: f (t) defined by: f (t) = 2t / (1 + t ^ 2) ^ 2 with t> 0.\n",
    "- Where t could be generated by np.linspace(0,10,100)\n",
    "- Provide plot results"
   ]
  },
  {
   "cell_type": "code",
   "execution_count": 52,
   "metadata": {},
   "outputs": [],
   "source": [
    "t = np.linspace(0, 10, 100)\n",
    "f_t = 2*t / (1 + t**2)**2"
   ]
  },
  {
   "cell_type": "code",
   "execution_count": 54,
   "metadata": {},
   "outputs": [
    {
     "name": "stderr",
     "output_type": "stream",
     "text": [
      "C:\\Users\\ssale\\AppData\\Local\\Temp\\ipykernel_14748\\2521865976.py:11: UserWarning: No artists with labels found to put in legend.  Note that artists whose label start with an underscore are ignored when legend() is called with no argument.\n",
      "  plt.legend()\n"
     ]
    },
    {
     "data": {
      "image/png": "[encoded data removed]",
      "text/plain": [
       "<Figure size 800x500 with 1 Axes>"
      ]
     },
     "metadata": {},
     "output_type": "display_data"
    }
   ],
   "source": [
    "# Plot graph with x, y and label set the fontsize = 14\n",
    "# Plot <Your Name> + title and set the fontsize = 14\n",
    "# plot size as (8,5)\n",
    "# plot with legend\n",
    "# plot with grid\n",
    "plt.figure(figsize=(8, 5))\n",
    "plt.plot(t, f_t)\n",
    "plt.xlabel(\"t\", fontsize=14)\n",
    "plt.ylabel(\"f(t)\", fontsize=14)\n",
    "plt.title(\"Jay + Graph of $y = \\\\frac{2x}{(1+x^2)^2}$\", fontsize=14)\n",
    "plt.legend()\n",
    "plt.grid()\n",
    "plt.show()"
   ]
  },
  {
   "cell_type": "markdown",
   "metadata": {},
   "source": [
    "#### Graduate student Instructions (CS557)\n",
    "\n",
    "- Let's think if we have this function: f (t) defined by: f (t) = 2t / (1 + t ^ 2) ^ 2 with t> 0.\n",
    "- Where t could be generated by np.linspace(0,10,100)\n",
    "- Provide line graph with mask = star\n",
    "- Provide bar graph with any 5 points data"
   ]
  },
  {
   "cell_type": "code",
   "execution_count": 57,
   "metadata": {},
   "outputs": [],
   "source": [
    "# Your code:\n"
   ]
  },
  {
   "cell_type": "code",
   "execution_count": 59,
   "metadata": {},
   "outputs": [
    {
     "data": {
      "image/png": "[encoded data removed]",
      "text/plain": [
       "<Figure size 640x480 with 1 Axes>"
      ]
     },
     "metadata": {},
     "output_type": "display_data"
    }
   ],
   "source": [
    "# Line Graph\n",
    "# Plot graph with x, y and label set the fontsize = 14\n",
    "# Plot <Your Name> + title and set the fontsize = 14\n",
    "# plot size as (8,5)\n",
    "# plot with legend\n",
    "# plot with grid\n",
    "\n",
    "\n",
    "plt.title(\"<Your Name> + Graph of $y = \\\\frac{2x}{(1+x^2)^2}$\", fontsize=14)\n",
    "\n",
    "plt.show()"
   ]
  },
  {
   "cell_type": "code",
   "execution_count": 61,
   "metadata": {},
   "outputs": [
    {
     "data": {
      "image/png": "[encoded data removed]",
      "text/plain": [
       "<Figure size 640x480 with 1 Axes>"
      ]
     },
     "metadata": {},
     "output_type": "display_data"
    }
   ],
   "source": [
    "# Bar Graph\n",
    "# Plot graph with x, y and label set the fontsize = 14\n",
    "# Plot <Your Name> + title and set the fontsize = 14\n",
    "# plot size as (8,5)\n",
    "# plot with legend\n",
    "# plot with grid\n",
    "\n",
    "\n",
    "plt.title(\"<Your Name> + Graph of $y = \\\\frac{2x}{(1+x^2)^2}$\", fontsize=14)\n",
    "\n",
    "plt.show()"
   ]
  },
  {
   "cell_type": "markdown",
   "metadata": {},
   "source": [
    "# Exercise 3 - Pandas "
   ]
  },
  {
   "cell_type": "markdown",
   "metadata": {},
   "source": [
    "#### You have obtained a piece of data about a hill. Please manually assign this data to a dictionary.\n",
    "\n",
    "\n",
    "\"Hill Name\": [\"Everest\", \"K2\", \"Kangchenjunga\", \"Lhotse\", \"Makalu\", \"Cho Oyu\", \"Dhaulagiri\", \"Manaslu\", \"Nanga Parbat\", \"Annapurna\"],\n",
    "\n",
    "\"Height (m)\": [8848, 8611, 8586, 8516, 8485, 8188, 8167, 8163, 8126, 8091],\n",
    "\n",
    "\"Location\": [\"Nepal/China\", \"Pakistan/China\", \"Nepal/India\", \"Nepal/China\", \"Nepal/China\", \"Nepal/China\", \"Nepal\", \"Nepal\", \"Pakistan\", \"Nepal\"],\n",
    "\n",
    "\"First Ascent Year\": [1953, 1954, 1955, 1956, 1955, 1954, 1960, 1956, 1953, 1950],\n",
    "\n",
    "\"Prominence (m)\": [8848, 4017, 3922, 610, 2378, 2340, 3357, 3092, 4608, 2984]\n"
   ]
  },
  {
   "cell_type": "code",
   "execution_count": 16,
   "metadata": {},
   "outputs": [],
   "source": [
    "hill_data = {'Hill Name': [\"Everest\", \"K2\", \"Kangchenjunga\", \"Lhotse\", \"Makalu\", \"Cho Oyu\", \"Dhaulagiri\", \"Manaslu\", \"Nanga Parbat\", \"Annapurna\"],\n",
    "            'Height (m)':[8848, 8611, 8586, 8516, 8485, 8188, 8167, 8163, 8126, 8091],\n",
    "            'Location': [\"Nepal/China\", \"Pakistan/China\", \"Nepal/India\", \"Nepal/China\", \"Nepal/China\", \"Nepal/China\", \"Nepal\", \"Nepal\", \"Pakistan\", \"Nepal\"],\n",
    "            'First Ascent Year': [1953, 1954, 1955, 1956, 1955, 1954, 1960, 1956, 1953, 1950],\n",
    "            'Prominence (m)': [8848, 4017, 3922, 610, 2378, 2340, 3357, 3092, 4608, 2984]}"
   ]
  },
  {
   "cell_type": "markdown",
   "metadata": {},
   "source": [
    "#### Convert your dictionary to a pandas dataframe with name hill_pd"
   ]
  },
  {
   "cell_type": "code",
   "execution_count": 18,
   "metadata": {},
   "outputs": [
    {
     "data": {
      "text/html": [
       "<div>\n",
       "<style scoped>\n",
       "    .dataframe tbody tr th:only-of-type {\n",
       "        vertical-align: middle;\n",
       "    }\n",
       "\n",
       "    .dataframe tbody tr th {\n",
       "        vertical-align: top;\n",
       "    }\n",
       "\n",
       "    .dataframe thead th {\n",
       "        text-align: right;\n",
       "    }\n",
       "</style>\n",
       "<table border=\"1\" class=\"dataframe\">\n",
       "  <thead>\n",
       "    <tr style=\"text-align: right;\">\n",
       "      <th></th>\n",
       "      <th>Hill Name</th>\n",
       "      <th>Height (m)</th>\n",
       "      <th>Location</th>\n",
       "      <th>First Ascent Year</th>\n",
       "      <th>Prominence (m)</th>\n",
       "    </tr>\n",
       "  </thead>\n",
       "  <tbody>\n",
       "    <tr>\n",
       "      <th>0</th>\n",
       "      <td>Everest</td>\n",
       "      <td>8848</td>\n",
       "      <td>Nepal/China</td>\n",
       "      <td>1953</td>\n",
       "      <td>8848</td>\n",
       "    </tr>\n",
       "    <tr>\n",
       "      <th>1</th>\n",
       "      <td>K2</td>\n",
       "      <td>8611</td>\n",
       "      <td>Pakistan/China</td>\n",
       "      <td>1954</td>\n",
       "      <td>4017</td>\n",
       "    </tr>\n",
       "    <tr>\n",
       "      <th>2</th>\n",
       "      <td>Kangchenjunga</td>\n",
       "      <td>8586</td>\n",
       "      <td>Nepal/India</td>\n",
       "      <td>1955</td>\n",
       "      <td>3922</td>\n",
       "    </tr>\n",
       "    <tr>\n",
       "      <th>3</th>\n",
       "      <td>Lhotse</td>\n",
       "      <td>8516</td>\n",
       "      <td>Nepal/China</td>\n",
       "      <td>1956</td>\n",
       "      <td>610</td>\n",
       "    </tr>\n",
       "    <tr>\n",
       "      <th>4</th>\n",
       "      <td>Makalu</td>\n",
       "      <td>8485</td>\n",
       "      <td>Nepal/China</td>\n",
       "      <td>1955</td>\n",
       "      <td>2378</td>\n",
       "    </tr>\n",
       "    <tr>\n",
       "      <th>5</th>\n",
       "      <td>Cho Oyu</td>\n",
       "      <td>8188</td>\n",
       "      <td>Nepal/China</td>\n",
       "      <td>1954</td>\n",
       "      <td>2340</td>\n",
       "    </tr>\n",
       "    <tr>\n",
       "      <th>6</th>\n",
       "      <td>Dhaulagiri</td>\n",
       "      <td>8167</td>\n",
       "      <td>Nepal</td>\n",
       "      <td>1960</td>\n",
       "      <td>3357</td>\n",
       "    </tr>\n",
       "    <tr>\n",
       "      <th>7</th>\n",
       "      <td>Manaslu</td>\n",
       "      <td>8163</td>\n",
       "      <td>Nepal</td>\n",
       "      <td>1956</td>\n",
       "      <td>3092</td>\n",
       "    </tr>\n",
       "    <tr>\n",
       "      <th>8</th>\n",
       "      <td>Nanga Parbat</td>\n",
       "      <td>8126</td>\n",
       "      <td>Pakistan</td>\n",
       "      <td>1953</td>\n",
       "      <td>4608</td>\n",
       "    </tr>\n",
       "    <tr>\n",
       "      <th>9</th>\n",
       "      <td>Annapurna</td>\n",
       "      <td>8091</td>\n",
       "      <td>Nepal</td>\n",
       "      <td>1950</td>\n",
       "      <td>2984</td>\n",
       "    </tr>\n",
       "  </tbody>\n",
       "</table>\n",
       "</div>"
      ],
      "text/plain": [
       "       Hill Name  Height (m)        Location  First Ascent Year  \\\n",
       "0        Everest        8848     Nepal/China               1953   \n",
       "1             K2        8611  Pakistan/China               1954   \n",
       "2  Kangchenjunga        8586     Nepal/India               1955   \n",
       "3         Lhotse        8516     Nepal/China               1956   \n",
       "4         Makalu        8485     Nepal/China               1955   \n",
       "5        Cho Oyu        8188     Nepal/China               1954   \n",
       "6     Dhaulagiri        8167           Nepal               1960   \n",
       "7        Manaslu        8163           Nepal               1956   \n",
       "8   Nanga Parbat        8126        Pakistan               1953   \n",
       "9      Annapurna        8091           Nepal               1950   \n",
       "\n",
       "   Prominence (m)  \n",
       "0            8848  \n",
       "1            4017  \n",
       "2            3922  \n",
       "3             610  \n",
       "4            2378  \n",
       "5            2340  \n",
       "6            3357  \n",
       "7            3092  \n",
       "8            4608  \n",
       "9            2984  "
      ]
     },
     "execution_count": 18,
     "metadata": {},
     "output_type": "execute_result"
    }
   ],
   "source": [
    "hill_pd = pd.DataFrame(hill_data)\n",
    "hill_pd"
   ]
  },
  {
   "cell_type": "markdown",
   "metadata": {},
   "source": [
    "#### Save your hill_pd to csv"
   ]
  },
  {
   "cell_type": "code",
   "execution_count": 20,
   "metadata": {},
   "outputs": [],
   "source": [
    "hill_pd.to_csv('hills.csv', index=False)"
   ]
  },
  {
   "cell_type": "markdown",
   "metadata": {},
   "source": [
    "#### Read your hill data from your csv"
   ]
  },
  {
   "cell_type": "code",
   "execution_count": 22,
   "metadata": {},
   "outputs": [],
   "source": [
    "new_df = pd.read_csv('hills.csv')"
   ]
  },
  {
   "cell_type": "markdown",
   "metadata": {},
   "source": [
    "#### Please select hills with an altitude higher than 8100 meters and express them in the form of a bar graph."
   ]
  },
  {
   "cell_type": "code",
   "execution_count": 24,
   "metadata": {},
   "outputs": [
    {
     "data": {
      "text/html": [
       "<div>\n",
       "<style scoped>\n",
       "    .dataframe tbody tr th:only-of-type {\n",
       "        vertical-align: middle;\n",
       "    }\n",
       "\n",
       "    .dataframe tbody tr th {\n",
       "        vertical-align: top;\n",
       "    }\n",
       "\n",
       "    .dataframe thead th {\n",
       "        text-align: right;\n",
       "    }\n",
       "</style>\n",
       "<table border=\"1\" class=\"dataframe\">\n",
       "  <thead>\n",
       "    <tr style=\"text-align: right;\">\n",
       "      <th></th>\n",
       "      <th>Hill Name</th>\n",
       "      <th>Height (m)</th>\n",
       "      <th>Location</th>\n",
       "      <th>First Ascent Year</th>\n",
       "      <th>Prominence (m)</th>\n",
       "    </tr>\n",
       "  </thead>\n",
       "  <tbody>\n",
       "    <tr>\n",
       "      <th>0</th>\n",
       "      <td>Everest</td>\n",
       "      <td>8848</td>\n",
       "      <td>Nepal/China</td>\n",
       "      <td>1953</td>\n",
       "      <td>8848</td>\n",
       "    </tr>\n",
       "    <tr>\n",
       "      <th>1</th>\n",
       "      <td>K2</td>\n",
       "      <td>8611</td>\n",
       "      <td>Pakistan/China</td>\n",
       "      <td>1954</td>\n",
       "      <td>4017</td>\n",
       "    </tr>\n",
       "    <tr>\n",
       "      <th>2</th>\n",
       "      <td>Kangchenjunga</td>\n",
       "      <td>8586</td>\n",
       "      <td>Nepal/India</td>\n",
       "      <td>1955</td>\n",
       "      <td>3922</td>\n",
       "    </tr>\n",
       "    <tr>\n",
       "      <th>3</th>\n",
       "      <td>Lhotse</td>\n",
       "      <td>8516</td>\n",
       "      <td>Nepal/China</td>\n",
       "      <td>1956</td>\n",
       "      <td>610</td>\n",
       "    </tr>\n",
       "    <tr>\n",
       "      <th>4</th>\n",
       "      <td>Makalu</td>\n",
       "      <td>8485</td>\n",
       "      <td>Nepal/China</td>\n",
       "      <td>1955</td>\n",
       "      <td>2378</td>\n",
       "    </tr>\n",
       "    <tr>\n",
       "      <th>5</th>\n",
       "      <td>Cho Oyu</td>\n",
       "      <td>8188</td>\n",
       "      <td>Nepal/China</td>\n",
       "      <td>1954</td>\n",
       "      <td>2340</td>\n",
       "    </tr>\n",
       "    <tr>\n",
       "      <th>6</th>\n",
       "      <td>Dhaulagiri</td>\n",
       "      <td>8167</td>\n",
       "      <td>Nepal</td>\n",
       "      <td>1960</td>\n",
       "      <td>3357</td>\n",
       "    </tr>\n",
       "    <tr>\n",
       "      <th>7</th>\n",
       "      <td>Manaslu</td>\n",
       "      <td>8163</td>\n",
       "      <td>Nepal</td>\n",
       "      <td>1956</td>\n",
       "      <td>3092</td>\n",
       "    </tr>\n",
       "    <tr>\n",
       "      <th>8</th>\n",
       "      <td>Nanga Parbat</td>\n",
       "      <td>8126</td>\n",
       "      <td>Pakistan</td>\n",
       "      <td>1953</td>\n",
       "      <td>4608</td>\n",
       "    </tr>\n",
       "  </tbody>\n",
       "</table>\n",
       "</div>"
      ],
      "text/plain": [
       "       Hill Name  Height (m)        Location  First Ascent Year  \\\n",
       "0        Everest        8848     Nepal/China               1953   \n",
       "1             K2        8611  Pakistan/China               1954   \n",
       "2  Kangchenjunga        8586     Nepal/India               1955   \n",
       "3         Lhotse        8516     Nepal/China               1956   \n",
       "4         Makalu        8485     Nepal/China               1955   \n",
       "5        Cho Oyu        8188     Nepal/China               1954   \n",
       "6     Dhaulagiri        8167           Nepal               1960   \n",
       "7        Manaslu        8163           Nepal               1956   \n",
       "8   Nanga Parbat        8126        Pakistan               1953   \n",
       "\n",
       "   Prominence (m)  \n",
       "0            8848  \n",
       "1            4017  \n",
       "2            3922  \n",
       "3             610  \n",
       "4            2378  \n",
       "5            2340  \n",
       "6            3357  \n",
       "7            3092  \n",
       "8            4608  "
      ]
     },
     "execution_count": 24,
     "metadata": {},
     "output_type": "execute_result"
    }
   ],
   "source": [
    "selected_hill = new_df[new_df['Height (m)'] > 8100]\n",
    "selected_hill"
   ]
  },
  {
   "cell_type": "code",
   "execution_count": 26,
   "metadata": {},
   "outputs": [
    {
     "data": {
      "image/png": "[encoded data removed]",
      "text/plain": [
       "<Figure size 640x480 with 1 Axes>"
      ]
     },
     "metadata": {},
     "output_type": "display_data"
    }
   ],
   "source": [
    "# Visualization\n",
    "# Need to add x,y labels, titles and grid.\n",
    "# Please add your name on graph titles.\n",
    "pltt = selected_hill.plot(x=\"Hill Name\", y=[\"Height (m)\"], kind=\"bar\")\n",
    "pltt.set_title('JoJo, Himalayan mountain heights > 8100')\n",
    "pltt.grid()"
   ]
  },
  {
   "cell_type": "markdown",
   "metadata": {},
   "source": [
    "#### For Graduate students only (CS557)\n",
    "\n",
    "Please add another set of visualizations using the **Prominence** data and explain their significance."
   ]
  },
  {
   "cell_type": "code",
   "execution_count": null,
   "metadata": {},
   "outputs": [],
   "source": []
  }
 ],
 "metadata": {
  "kernelspec": {
   "display_name": "Python [conda env:base] *",
   "language": "python",
   "name": "conda-base-py"
  },
  "language_info": {
   "codemirror_mode": {
    "name": "ipython",
    "version": 3
   },
   "file_extension": ".py",
   "mimetype": "text/x-python",
   "name": "python",
   "nbconvert_exporter": "python",
   "pygments_lexer": "ipython3",
   "version": "3.12.7"
  }
 },
 "nbformat": 4,
 "nbformat_minor": 4
}
