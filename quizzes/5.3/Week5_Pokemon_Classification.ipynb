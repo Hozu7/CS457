{
 "cells": [
  {
   "cell_type": "markdown",
   "id": "c649b02a",
   "metadata": {},
   "source": [
    "# Pokémon Data Classification: Logistic Regression vs MLP"
   ]
  },
  {
   "cell_type": "markdown",
   "id": "89920876",
   "metadata": {},
   "source": [
    "## Objective\n",
    "This notebook demonstrates how to classify Pokémon as legendary or not using two machine learning models:\n",
    "- Logistic Regression\n",
    "- Multi-Layer Perceptron (MLP)\n",
    "\n",
    "We will compare the performance of both models using metrics such as accuracy, precision, recall, F1-score, and AUC-ROC."
   ]
  },
  {
   "cell_type": "markdown",
   "id": "b7aea16b",
   "metadata": {},
   "source": [
    "## Step 1: Load and Explore the Dataset"
   ]
  },
  {
   "cell_type": "code",
   "execution_count": 4,
   "id": "200d8967",
   "metadata": {},
   "outputs": [
    {
     "data": {
      "text/html": [
       "<div>\n",
       "<style scoped>\n",
       "    .dataframe tbody tr th:only-of-type {\n",
       "        vertical-align: middle;\n",
       "    }\n",
       "\n",
       "    .dataframe tbody tr th {\n",
       "        vertical-align: top;\n",
       "    }\n",
       "\n",
       "    .dataframe thead th {\n",
       "        text-align: right;\n",
       "    }\n",
       "</style>\n",
       "<table border=\"1\" class=\"dataframe\">\n",
       "  <thead>\n",
       "    <tr style=\"text-align: right;\">\n",
       "      <th></th>\n",
       "      <th>name</th>\n",
       "      <th>deck_no</th>\n",
       "      <th>attack</th>\n",
       "      <th>defense</th>\n",
       "      <th>sp_attack</th>\n",
       "      <th>sp_defense</th>\n",
       "      <th>speed</th>\n",
       "      <th>capture_rt</th>\n",
       "      <th>total_bs</th>\n",
       "      <th>type</th>\n",
       "      <th>gen</th>\n",
       "      <th>legendary</th>\n",
       "    </tr>\n",
       "  </thead>\n",
       "  <tbody>\n",
       "    <tr>\n",
       "      <th>0</th>\n",
       "      <td>Bulbasaur</td>\n",
       "      <td>1</td>\n",
       "      <td>49</td>\n",
       "      <td>49</td>\n",
       "      <td>65</td>\n",
       "      <td>65</td>\n",
       "      <td>45</td>\n",
       "      <td>45</td>\n",
       "      <td>318</td>\n",
       "      <td>grass</td>\n",
       "      <td>1</td>\n",
       "      <td>0</td>\n",
       "    </tr>\n",
       "    <tr>\n",
       "      <th>1</th>\n",
       "      <td>Ivysaur</td>\n",
       "      <td>2</td>\n",
       "      <td>62</td>\n",
       "      <td>63</td>\n",
       "      <td>80</td>\n",
       "      <td>80</td>\n",
       "      <td>60</td>\n",
       "      <td>45</td>\n",
       "      <td>405</td>\n",
       "      <td>grass</td>\n",
       "      <td>1</td>\n",
       "      <td>0</td>\n",
       "    </tr>\n",
       "    <tr>\n",
       "      <th>2</th>\n",
       "      <td>Venusaur</td>\n",
       "      <td>3</td>\n",
       "      <td>100</td>\n",
       "      <td>123</td>\n",
       "      <td>122</td>\n",
       "      <td>120</td>\n",
       "      <td>80</td>\n",
       "      <td>45</td>\n",
       "      <td>625</td>\n",
       "      <td>grass</td>\n",
       "      <td>1</td>\n",
       "      <td>0</td>\n",
       "    </tr>\n",
       "    <tr>\n",
       "      <th>3</th>\n",
       "      <td>Charmander</td>\n",
       "      <td>4</td>\n",
       "      <td>52</td>\n",
       "      <td>43</td>\n",
       "      <td>60</td>\n",
       "      <td>50</td>\n",
       "      <td>65</td>\n",
       "      <td>45</td>\n",
       "      <td>309</td>\n",
       "      <td>fire</td>\n",
       "      <td>1</td>\n",
       "      <td>0</td>\n",
       "    </tr>\n",
       "    <tr>\n",
       "      <th>4</th>\n",
       "      <td>Charmeleon</td>\n",
       "      <td>5</td>\n",
       "      <td>64</td>\n",
       "      <td>58</td>\n",
       "      <td>80</td>\n",
       "      <td>65</td>\n",
       "      <td>80</td>\n",
       "      <td>45</td>\n",
       "      <td>405</td>\n",
       "      <td>fire</td>\n",
       "      <td>1</td>\n",
       "      <td>0</td>\n",
       "    </tr>\n",
       "  </tbody>\n",
       "</table>\n",
       "</div>"
      ],
      "text/plain": [
       "         name  deck_no  attack  defense  sp_attack  sp_defense  speed  \\\n",
       "0   Bulbasaur        1      49       49         65          65     45   \n",
       "1     Ivysaur        2      62       63         80          80     60   \n",
       "2    Venusaur        3     100      123        122         120     80   \n",
       "3  Charmander        4      52       43         60          50     65   \n",
       "4  Charmeleon        5      64       58         80          65     80   \n",
       "\n",
       "   capture_rt  total_bs   type  gen  legendary  \n",
       "0          45       318  grass    1          0  \n",
       "1          45       405  grass    1          0  \n",
       "2          45       625  grass    1          0  \n",
       "3          45       309   fire    1          0  \n",
       "4          45       405   fire    1          0  "
      ]
     },
     "execution_count": 4,
     "metadata": {},
     "output_type": "execute_result"
    }
   ],
   "source": [
    "import pandas as pd\n",
    "import numpy as np\n",
    "\n",
    "# Load the Pokémon dataset\n",
    "file_path = 'pokemon.csv'  # Ensure this file is in the same directory as the notebook\n",
    "pokemon_data = pd.read_csv(file_path)\n",
    "\n",
    "# Display the first few rows\n",
    "pokemon_data.head()"
   ]
  },
  {
   "cell_type": "markdown",
   "id": "41159a0f",
   "metadata": {},
   "source": [
    "## Step 2: Data Preprocessing\n",
    "### 2.1 Feature Engineering"
   ]
  },
  {
   "cell_type": "code",
   "execution_count": 7,
   "id": "228ac0aa",
   "metadata": {},
   "outputs": [],
   "source": [
    "# Create a derived feature: attack_to_defense_ratio\n",
    "pokemon_data['attack_to_defense_ratio'] = pokemon_data['attack'] / pokemon_data['defense']\n",
    "\n",
    "# Select features and target\n",
    "features = ['attack', 'defense', 'sp_attack', 'sp_defense', 'speed', 'total_bs',\n",
    "            'capture_rt', 'attack_to_defense_ratio', 'type']\n",
    "target = 'legendary'\n",
    "X = pokemon_data[features]\n",
    "y = pokemon_data[target]"
   ]
  },
  {
   "cell_type": "code",
   "execution_count": 9,
   "id": "825347e0-97fa-423e-8318-fe669b1fa270",
   "metadata": {},
   "outputs": [],
   "source": [
    "from sklearn.compose import ColumnTransformer\n",
    "from sklearn.preprocessing import StandardScaler, OneHotEncoder\n",
    "from sklearn.preprocessing import MinMaxScaler, Normalizer, MaxAbsScaler\n"
   ]
  },
  {
   "cell_type": "markdown",
   "id": "f23f4262-3ca7-4c4f-a1ad-4b3f3e69300b",
   "metadata": {},
   "source": [
    "### 2.2 Example for Scaling"
   ]
  },
  {
   "cell_type": "markdown",
   "id": "fe5127d1-6abf-4bcc-a34f-5c509556c91b",
   "metadata": {},
   "source": [
    "### MinMaxScaler Example "
   ]
  },
  {
   "cell_type": "code",
   "execution_count": 12,
   "id": "862d07c7-b4cb-4232-96da-27d0d2a07f38",
   "metadata": {},
   "outputs": [
    {
     "data": {
      "text/html": [
       "<div>\n",
       "<style scoped>\n",
       "    .dataframe tbody tr th:only-of-type {\n",
       "        vertical-align: middle;\n",
       "    }\n",
       "\n",
       "    .dataframe tbody tr th {\n",
       "        vertical-align: top;\n",
       "    }\n",
       "\n",
       "    .dataframe thead th {\n",
       "        text-align: right;\n",
       "    }\n",
       "</style>\n",
       "<table border=\"1\" class=\"dataframe\">\n",
       "  <thead>\n",
       "    <tr style=\"text-align: right;\">\n",
       "      <th></th>\n",
       "      <th>attack</th>\n",
       "      <th>defense</th>\n",
       "      <th>sp_attack</th>\n",
       "      <th>sp_defense</th>\n",
       "      <th>speed</th>\n",
       "      <th>total_bs</th>\n",
       "      <th>capture_rt</th>\n",
       "      <th>attack_to_defense_ratio</th>\n",
       "      <th>type</th>\n",
       "    </tr>\n",
       "  </thead>\n",
       "  <tbody>\n",
       "    <tr>\n",
       "      <th>0</th>\n",
       "      <td>49</td>\n",
       "      <td>49</td>\n",
       "      <td>65</td>\n",
       "      <td>65</td>\n",
       "      <td>45</td>\n",
       "      <td>318</td>\n",
       "      <td>45</td>\n",
       "      <td>1.000000</td>\n",
       "      <td>grass</td>\n",
       "    </tr>\n",
       "    <tr>\n",
       "      <th>1</th>\n",
       "      <td>62</td>\n",
       "      <td>63</td>\n",
       "      <td>80</td>\n",
       "      <td>80</td>\n",
       "      <td>60</td>\n",
       "      <td>405</td>\n",
       "      <td>45</td>\n",
       "      <td>0.984127</td>\n",
       "      <td>grass</td>\n",
       "    </tr>\n",
       "    <tr>\n",
       "      <th>2</th>\n",
       "      <td>100</td>\n",
       "      <td>123</td>\n",
       "      <td>122</td>\n",
       "      <td>120</td>\n",
       "      <td>80</td>\n",
       "      <td>625</td>\n",
       "      <td>45</td>\n",
       "      <td>0.813008</td>\n",
       "      <td>grass</td>\n",
       "    </tr>\n",
       "    <tr>\n",
       "      <th>3</th>\n",
       "      <td>52</td>\n",
       "      <td>43</td>\n",
       "      <td>60</td>\n",
       "      <td>50</td>\n",
       "      <td>65</td>\n",
       "      <td>309</td>\n",
       "      <td>45</td>\n",
       "      <td>1.209302</td>\n",
       "      <td>fire</td>\n",
       "    </tr>\n",
       "    <tr>\n",
       "      <th>4</th>\n",
       "      <td>64</td>\n",
       "      <td>58</td>\n",
       "      <td>80</td>\n",
       "      <td>65</td>\n",
       "      <td>80</td>\n",
       "      <td>405</td>\n",
       "      <td>45</td>\n",
       "      <td>1.103448</td>\n",
       "      <td>fire</td>\n",
       "    </tr>\n",
       "  </tbody>\n",
       "</table>\n",
       "</div>"
      ],
      "text/plain": [
       "   attack  defense  sp_attack  sp_defense  speed  total_bs  capture_rt  \\\n",
       "0      49       49         65          65     45       318          45   \n",
       "1      62       63         80          80     60       405          45   \n",
       "2     100      123        122         120     80       625          45   \n",
       "3      52       43         60          50     65       309          45   \n",
       "4      64       58         80          65     80       405          45   \n",
       "\n",
       "   attack_to_defense_ratio   type  \n",
       "0                 1.000000  grass  \n",
       "1                 0.984127  grass  \n",
       "2                 0.813008  grass  \n",
       "3                 1.209302   fire  \n",
       "4                 1.103448   fire  "
      ]
     },
     "execution_count": 12,
     "metadata": {},
     "output_type": "execute_result"
    }
   ],
   "source": [
    "X.head(5)"
   ]
  },
  {
   "cell_type": "code",
   "execution_count": 13,
   "id": "f98b78f6-160a-4da6-8aa7-7eae1c7e3f45",
   "metadata": {},
   "outputs": [
    {
     "name": "stdout",
     "output_type": "stream",
     "text": [
      "Min-Max Scaled Data:\n",
      "     attack   defense  sp_attack  sp_defense     speed  total_bs  capture_rt\n",
      "0  0.244444  0.195556   0.298913    0.214286  0.228571  0.230000    0.166667\n",
      "1  0.316667  0.257778   0.380435    0.285714  0.314286  0.375000    0.166667\n",
      "2  0.527778  0.524444   0.608696    0.476190  0.428571  0.741667    0.166667\n",
      "3  0.261111  0.168889   0.271739    0.142857  0.342857  0.215000    0.166667\n",
      "4  0.327778  0.235556   0.380435    0.214286  0.428571  0.375000    0.166667\n"
     ]
    }
   ],
   "source": [
    "# Min-Max Scaling\n",
    "# Select features and target\n",
    "features_digit = ['attack', 'defense', 'sp_attack', 'sp_defense', 'speed', 'total_bs',\n",
    "            'capture_rt']\n",
    "target = 'legendary'\n",
    "X_example = pokemon_data[features_digit]\n",
    "y_target = pokemon_data[target]\n",
    "\n",
    "min_max_scaler = MinMaxScaler()\n",
    "X_min_max_scaled = pd.DataFrame(min_max_scaler.fit_transform(X_example), columns=features_digit)\n",
    "print(\"Min-Max Scaled Data:\")\n",
    "print(X_min_max_scaled.head(5))"
   ]
  },
  {
   "cell_type": "markdown",
   "id": "1c0a90aa-95c9-4eac-a939-aa4da684830b",
   "metadata": {},
   "source": [
    "### Normalizer Example"
   ]
  },
  {
   "cell_type": "code",
   "execution_count": 15,
   "id": "788dbdc5-547a-45f7-b8a6-cb9cd8b72bea",
   "metadata": {},
   "outputs": [
    {
     "name": "stdout",
     "output_type": "stream",
     "text": [
      "\n",
      "L1 Normalized Data:\n",
      "\n",
      "     attack   defense  sp_attack  sp_defense     speed  total_bs  capture_rt\n",
      "0  0.077044  0.077044   0.102201    0.102201  0.070755  0.500000    0.070755\n",
      "1  0.077987  0.079245   0.100629    0.100629  0.075472  0.509434    0.056604\n",
      "2  0.082305  0.101235   0.100412    0.098765  0.065844  0.514403    0.037037\n",
      "3  0.083333  0.068910   0.096154    0.080128  0.104167  0.495192    0.072115\n",
      "4  0.080301  0.072773   0.100376    0.081556  0.100376  0.508156    0.056462\n"
     ]
    }
   ],
   "source": [
    "# Normalization with L1 Norm\n",
    "l1_normalizer = Normalizer(norm='l1')\n",
    "X_l1 = l1_normalizer.fit_transform(X_example)\n",
    "X_normalized_l1 = pd.DataFrame(X_l1, columns=features_digit)\n",
    "print(\"\\nL1 Normalized Data:\\n\")\n",
    "print(X_normalized_l1.head(5))\n"
   ]
  },
  {
   "cell_type": "code",
   "execution_count": 20,
   "id": "efe2a87e-a221-444b-906f-d3a0d10d3bee",
   "metadata": {},
   "outputs": [
    {
     "name": "stdout",
     "output_type": "stream",
     "text": [
      "\n",
      "L2 Normalized Data:\n",
      "\n",
      "     attack   defense  sp_attack  sp_defense     speed  total_bs  capture_rt\n",
      "0  0.142388  0.142388   0.188882    0.188882  0.130764  0.924067    0.130764\n",
      "1  0.142139  0.144432   0.183406    0.183406  0.137554  0.928491    0.103166\n",
      "2  0.148501  0.182656   0.181171    0.178201  0.118801  0.928131    0.066825\n",
      "3  0.155114  0.128267   0.178978    0.149148  0.193893  0.921735    0.134233\n",
      "4  0.146620  0.132874   0.183275    0.148911  0.183275  0.927828    0.103092\n"
     ]
    }
   ],
   "source": [
    "# Normalization with L2 Norm\n",
    "l2_normalizer = Normalizer(norm='l2')\n",
    "X_l2 = l2_normalizer.fit_transform(X_example)\n",
    "X_normalized_l2 = pd.DataFrame(X_l2, columns=features_digit)\n",
    "print(\"\\nL2 Normalized Data:\\n\")\n",
    "print(X_normalized_l2.head(5))"
   ]
  },
  {
   "cell_type": "markdown",
   "id": "2dbcb335-60ed-48c5-8073-aff70a913e17",
   "metadata": {},
   "source": [
    "### MaxAbsScaler(Maximum Absolute scaler) Example"
   ]
  },
  {
   "cell_type": "code",
   "execution_count": 23,
   "id": "37e68b2a-ad9c-4f9a-848d-4747745de900",
   "metadata": {},
   "outputs": [
    {
     "name": "stdout",
     "output_type": "stream",
     "text": [
      "\n",
      "Max-Abs Scaled Data:\n",
      "     attack   defense  sp_attack  sp_defense     speed  total_bs  capture_rt\n",
      "0  0.264865  0.213043   0.335052    0.282609  0.250000  0.407692    0.176471\n",
      "1  0.335135  0.273913   0.412371    0.347826  0.333333  0.519231    0.176471\n",
      "2  0.540541  0.534783   0.628866    0.521739  0.444444  0.801282    0.176471\n",
      "3  0.281081  0.186957   0.309278    0.217391  0.361111  0.396154    0.176471\n",
      "4  0.345946  0.252174   0.412371    0.282609  0.444444  0.519231    0.176471\n"
     ]
    }
   ],
   "source": [
    "# Maximum Absolute Scaling\n",
    "max_abs_scaler = MaxAbsScaler()\n",
    "X_max_abs_scaled = pd.DataFrame(max_abs_scaler.fit_transform(X_example), columns=features_digit)\n",
    "print(\"\\nMax-Abs Scaled Data:\")\n",
    "print(X_max_abs_scaled.head(5))"
   ]
  },
  {
   "cell_type": "markdown",
   "id": "39c6c1c2-a906-46e5-b017-8eac2ce9b581",
   "metadata": {},
   "source": [
    "### StandardScaler Example"
   ]
  },
  {
   "cell_type": "code",
   "execution_count": 26,
   "id": "67404205-f40e-4068-ab21-2f73d4a8efdf",
   "metadata": {},
   "outputs": [
    {
     "name": "stdout",
     "output_type": "stream",
     "text": [
      "Standardized Features (Mean = 0, Std = 1):\n",
      "     attack   defense  sp_attack  sp_defense     speed  total_bs  capture_rt\n",
      "0 -0.897909 -0.780773  -0.195025   -0.211338 -0.732587 -0.926533   -0.709405\n",
      "1 -0.493413 -0.325488   0.268888    0.326064 -0.213875 -0.196233   -0.709405\n",
      "2  0.688960  1.625735   1.567846    1.759138  0.477742  1.650503   -0.709405\n",
      "3 -0.804564 -0.975896  -0.349663   -0.748740 -0.040970 -1.002081   -0.709405\n",
      "4 -0.431183 -0.488090   0.268888   -0.211338  0.477742 -0.196233   -0.709405\n"
     ]
    }
   ],
   "source": [
    "# StandardScaler\n",
    "scaler = StandardScaler()  # Initialize the scaler\n",
    "X_scaled = scaler.fit_transform(X_example)  # Standardize the features\n",
    "\n",
    "# Step 4: Convert the scaled features back into a DataFrame\n",
    "X_scaled_df = pd.DataFrame(X_scaled, columns=features_digit)\n",
    "\n",
    "# Display the scaled data\n",
    "print(\"Standardized Features (Mean = 0, Std = 1):\")\n",
    "print(X_scaled_df.head(5))"
   ]
  },
  {
   "cell_type": "markdown",
   "id": "77742ab8",
   "metadata": {},
   "source": [
    "### 2.3 Data Transformation Using ColumnTransformer"
   ]
  },
  {
   "cell_type": "code",
   "execution_count": 33,
   "id": "b4085e94",
   "metadata": {},
   "outputs": [],
   "source": [
    "# Categorical and numerical columns\n",
    "categorical_features = ['type']\n",
    "numeric_features = [col for col in features if col not in categorical_features]\n",
    "\n",
    "# Preprocessing pipeline\n",
    "numeric_transformer =  max_abs_scaler # Please try to use max_abs_scaler\n",
    "categorical_transformer = OneHotEncoder()\n",
    "\n",
    "# **ColumnTransformer**:\n",
    "# This handles preprocessing for both numerical and categorical features in a single step.\n",
    "# - Numerical data is scaled using `StandardScaler` to normalize values.\n",
    "# - Categorical data (like 'type') is converted into numerical format using one-hot encoding.\n",
    "# Benefits:\n",
    "# - Enables seamless integration of preprocessing into a single pipeline.\n",
    "# - Prevents data leakage by applying transformations only on training data during cross-validation.\n",
    "\n",
    "\n",
    "preprocessor = ColumnTransformer(\n",
    "    transformers=[\n",
    "        ('num', numeric_transformer, numeric_features),\n",
    "        ('cat', categorical_transformer, categorical_features)\n",
    "    ]\n",
    ")"
   ]
  },
  {
   "cell_type": "code",
   "execution_count": 35,
   "id": "630ba6ca-3f4a-4526-8435-9c7d4ae3ec91",
   "metadata": {},
   "outputs": [
    {
     "data": {
      "text/html": [
       "<style>#sk-container-id-1 {\n",
       "  /* Definition of color scheme common for light and dark mode */\n",
       "  --sklearn-color-text: black;\n",
       "  --sklearn-color-line: gray;\n",
       "  /* Definition of color scheme for unfitted estimators */\n",
       "  --sklearn-color-unfitted-level-0: #fff5e6;\n",
       "  --sklearn-color-unfitted-level-1: #f6e4d2;\n",
       "  --sklearn-color-unfitted-level-2: #ffe0b3;\n",
       "  --sklearn-color-unfitted-level-3: chocolate;\n",
       "  /* Definition of color scheme for fitted estimators */\n",
       "  --sklearn-color-fitted-level-0: #f0f8ff;\n",
       "  --sklearn-color-fitted-level-1: #d4ebff;\n",
       "  --sklearn-color-fitted-level-2: #b3dbfd;\n",
       "  --sklearn-color-fitted-level-3: cornflowerblue;\n",
       "\n",
       "  /* Specific color for light theme */\n",
       "  --sklearn-color-text-on-default-background: var(--sg-text-color, var(--theme-code-foreground, var(--jp-content-font-color1, black)));\n",
       "  --sklearn-color-background: var(--sg-background-color, var(--theme-background, var(--jp-layout-color0, white)));\n",
       "  --sklearn-color-border-box: var(--sg-text-color, var(--theme-code-foreground, var(--jp-content-font-color1, black)));\n",
       "  --sklearn-color-icon: #696969;\n",
       "\n",
       "  @media (prefers-color-scheme: dark) {\n",
       "    /* Redefinition of color scheme for dark theme */\n",
       "    --sklearn-color-text-on-default-background: var(--sg-text-color, var(--theme-code-foreground, var(--jp-content-font-color1, white)));\n",
       "    --sklearn-color-background: var(--sg-background-color, var(--theme-background, var(--jp-layout-color0, #111)));\n",
       "    --sklearn-color-border-box: var(--sg-text-color, var(--theme-code-foreground, var(--jp-content-font-color1, white)));\n",
       "    --sklearn-color-icon: #878787;\n",
       "  }\n",
       "}\n",
       "\n",
       "#sk-container-id-1 {\n",
       "  color: var(--sklearn-color-text);\n",
       "}\n",
       "\n",
       "#sk-container-id-1 pre {\n",
       "  padding: 0;\n",
       "}\n",
       "\n",
       "#sk-container-id-1 input.sk-hidden--visually {\n",
       "  border: 0;\n",
       "  clip: rect(1px 1px 1px 1px);\n",
       "  clip: rect(1px, 1px, 1px, 1px);\n",
       "  height: 1px;\n",
       "  margin: -1px;\n",
       "  overflow: hidden;\n",
       "  padding: 0;\n",
       "  position: absolute;\n",
       "  width: 1px;\n",
       "}\n",
       "\n",
       "#sk-container-id-1 div.sk-dashed-wrapped {\n",
       "  border: 1px dashed var(--sklearn-color-line);\n",
       "  margin: 0 0.4em 0.5em 0.4em;\n",
       "  box-sizing: border-box;\n",
       "  padding-bottom: 0.4em;\n",
       "  background-color: var(--sklearn-color-background);\n",
       "}\n",
       "\n",
       "#sk-container-id-1 div.sk-container {\n",
       "  /* jupyter's `normalize.less` sets `[hidden] { display: none; }`\n",
       "     but bootstrap.min.css set `[hidden] { display: none !important; }`\n",
       "     so we also need the `!important` here to be able to override the\n",
       "     default hidden behavior on the sphinx rendered scikit-learn.org.\n",
       "     See: https://github.com/scikit-learn/scikit-learn/issues/21755 */\n",
       "  display: inline-block !important;\n",
       "  position: relative;\n",
       "}\n",
       "\n",
       "#sk-container-id-1 div.sk-text-repr-fallback {\n",
       "  display: none;\n",
       "}\n",
       "\n",
       "div.sk-parallel-item,\n",
       "div.sk-serial,\n",
       "div.sk-item {\n",
       "  /* draw centered vertical line to link estimators */\n",
       "  background-image: linear-gradient(var(--sklearn-color-text-on-default-background), var(--sklearn-color-text-on-default-background));\n",
       "  background-size: 2px 100%;\n",
       "  background-repeat: no-repeat;\n",
       "  background-position: center center;\n",
       "}\n",
       "\n",
       "/* Parallel-specific style estimator block */\n",
       "\n",
       "#sk-container-id-1 div.sk-parallel-item::after {\n",
       "  content: \"\";\n",
       "  width: 100%;\n",
       "  border-bottom: 2px solid var(--sklearn-color-text-on-default-background);\n",
       "  flex-grow: 1;\n",
       "}\n",
       "\n",
       "#sk-container-id-1 div.sk-parallel {\n",
       "  display: flex;\n",
       "  align-items: stretch;\n",
       "  justify-content: center;\n",
       "  background-color: var(--sklearn-color-background);\n",
       "  position: relative;\n",
       "}\n",
       "\n",
       "#sk-container-id-1 div.sk-parallel-item {\n",
       "  display: flex;\n",
       "  flex-direction: column;\n",
       "}\n",
       "\n",
       "#sk-container-id-1 div.sk-parallel-item:first-child::after {\n",
       "  align-self: flex-end;\n",
       "  width: 50%;\n",
       "}\n",
       "\n",
       "#sk-container-id-1 div.sk-parallel-item:last-child::after {\n",
       "  align-self: flex-start;\n",
       "  width: 50%;\n",
       "}\n",
       "\n",
       "#sk-container-id-1 div.sk-parallel-item:only-child::after {\n",
       "  width: 0;\n",
       "}\n",
       "\n",
       "/* Serial-specific style estimator block */\n",
       "\n",
       "#sk-container-id-1 div.sk-serial {\n",
       "  display: flex;\n",
       "  flex-direction: column;\n",
       "  align-items: center;\n",
       "  background-color: var(--sklearn-color-background);\n",
       "  padding-right: 1em;\n",
       "  padding-left: 1em;\n",
       "}\n",
       "\n",
       "\n",
       "/* Toggleable style: style used for estimator/Pipeline/ColumnTransformer box that is\n",
       "clickable and can be expanded/collapsed.\n",
       "- Pipeline and ColumnTransformer use this feature and define the default style\n",
       "- Estimators will overwrite some part of the style using the `sk-estimator` class\n",
       "*/\n",
       "\n",
       "/* Pipeline and ColumnTransformer style (default) */\n",
       "\n",
       "#sk-container-id-1 div.sk-toggleable {\n",
       "  /* Default theme specific background. It is overwritten whether we have a\n",
       "  specific estimator or a Pipeline/ColumnTransformer */\n",
       "  background-color: var(--sklearn-color-background);\n",
       "}\n",
       "\n",
       "/* Toggleable label */\n",
       "#sk-container-id-1 label.sk-toggleable__label {\n",
       "  cursor: pointer;\n",
       "  display: block;\n",
       "  width: 100%;\n",
       "  margin-bottom: 0;\n",
       "  padding: 0.5em;\n",
       "  box-sizing: border-box;\n",
       "  text-align: center;\n",
       "}\n",
       "\n",
       "#sk-container-id-1 label.sk-toggleable__label-arrow:before {\n",
       "  /* Arrow on the left of the label */\n",
       "  content: \"▸\";\n",
       "  float: left;\n",
       "  margin-right: 0.25em;\n",
       "  color: var(--sklearn-color-icon);\n",
       "}\n",
       "\n",
       "#sk-container-id-1 label.sk-toggleable__label-arrow:hover:before {\n",
       "  color: var(--sklearn-color-text);\n",
       "}\n",
       "\n",
       "/* Toggleable content - dropdown */\n",
       "\n",
       "#sk-container-id-1 div.sk-toggleable__content {\n",
       "  max-height: 0;\n",
       "  max-width: 0;\n",
       "  overflow: hidden;\n",
       "  text-align: left;\n",
       "  /* unfitted */\n",
       "  background-color: var(--sklearn-color-unfitted-level-0);\n",
       "}\n",
       "\n",
       "#sk-container-id-1 div.sk-toggleable__content.fitted {\n",
       "  /* fitted */\n",
       "  background-color: var(--sklearn-color-fitted-level-0);\n",
       "}\n",
       "\n",
       "#sk-container-id-1 div.sk-toggleable__content pre {\n",
       "  margin: 0.2em;\n",
       "  border-radius: 0.25em;\n",
       "  color: var(--sklearn-color-text);\n",
       "  /* unfitted */\n",
       "  background-color: var(--sklearn-color-unfitted-level-0);\n",
       "}\n",
       "\n",
       "#sk-container-id-1 div.sk-toggleable__content.fitted pre {\n",
       "  /* unfitted */\n",
       "  background-color: var(--sklearn-color-fitted-level-0);\n",
       "}\n",
       "\n",
       "#sk-container-id-1 input.sk-toggleable__control:checked~div.sk-toggleable__content {\n",
       "  /* Expand drop-down */\n",
       "  max-height: 200px;\n",
       "  max-width: 100%;\n",
       "  overflow: auto;\n",
       "}\n",
       "\n",
       "#sk-container-id-1 input.sk-toggleable__control:checked~label.sk-toggleable__label-arrow:before {\n",
       "  content: \"▾\";\n",
       "}\n",
       "\n",
       "/* Pipeline/ColumnTransformer-specific style */\n",
       "\n",
       "#sk-container-id-1 div.sk-label input.sk-toggleable__control:checked~label.sk-toggleable__label {\n",
       "  color: var(--sklearn-color-text);\n",
       "  background-color: var(--sklearn-color-unfitted-level-2);\n",
       "}\n",
       "\n",
       "#sk-container-id-1 div.sk-label.fitted input.sk-toggleable__control:checked~label.sk-toggleable__label {\n",
       "  background-color: var(--sklearn-color-fitted-level-2);\n",
       "}\n",
       "\n",
       "/* Estimator-specific style */\n",
       "\n",
       "/* Colorize estimator box */\n",
       "#sk-container-id-1 div.sk-estimator input.sk-toggleable__control:checked~label.sk-toggleable__label {\n",
       "  /* unfitted */\n",
       "  background-color: var(--sklearn-color-unfitted-level-2);\n",
       "}\n",
       "\n",
       "#sk-container-id-1 div.sk-estimator.fitted input.sk-toggleable__control:checked~label.sk-toggleable__label {\n",
       "  /* fitted */\n",
       "  background-color: var(--sklearn-color-fitted-level-2);\n",
       "}\n",
       "\n",
       "#sk-container-id-1 div.sk-label label.sk-toggleable__label,\n",
       "#sk-container-id-1 div.sk-label label {\n",
       "  /* The background is the default theme color */\n",
       "  color: var(--sklearn-color-text-on-default-background);\n",
       "}\n",
       "\n",
       "/* On hover, darken the color of the background */\n",
       "#sk-container-id-1 div.sk-label:hover label.sk-toggleable__label {\n",
       "  color: var(--sklearn-color-text);\n",
       "  background-color: var(--sklearn-color-unfitted-level-2);\n",
       "}\n",
       "\n",
       "/* Label box, darken color on hover, fitted */\n",
       "#sk-container-id-1 div.sk-label.fitted:hover label.sk-toggleable__label.fitted {\n",
       "  color: var(--sklearn-color-text);\n",
       "  background-color: var(--sklearn-color-fitted-level-2);\n",
       "}\n",
       "\n",
       "/* Estimator label */\n",
       "\n",
       "#sk-container-id-1 div.sk-label label {\n",
       "  font-family: monospace;\n",
       "  font-weight: bold;\n",
       "  display: inline-block;\n",
       "  line-height: 1.2em;\n",
       "}\n",
       "\n",
       "#sk-container-id-1 div.sk-label-container {\n",
       "  text-align: center;\n",
       "}\n",
       "\n",
       "/* Estimator-specific */\n",
       "#sk-container-id-1 div.sk-estimator {\n",
       "  font-family: monospace;\n",
       "  border: 1px dotted var(--sklearn-color-border-box);\n",
       "  border-radius: 0.25em;\n",
       "  box-sizing: border-box;\n",
       "  margin-bottom: 0.5em;\n",
       "  /* unfitted */\n",
       "  background-color: var(--sklearn-color-unfitted-level-0);\n",
       "}\n",
       "\n",
       "#sk-container-id-1 div.sk-estimator.fitted {\n",
       "  /* fitted */\n",
       "  background-color: var(--sklearn-color-fitted-level-0);\n",
       "}\n",
       "\n",
       "/* on hover */\n",
       "#sk-container-id-1 div.sk-estimator:hover {\n",
       "  /* unfitted */\n",
       "  background-color: var(--sklearn-color-unfitted-level-2);\n",
       "}\n",
       "\n",
       "#sk-container-id-1 div.sk-estimator.fitted:hover {\n",
       "  /* fitted */\n",
       "  background-color: var(--sklearn-color-fitted-level-2);\n",
       "}\n",
       "\n",
       "/* Specification for estimator info (e.g. \"i\" and \"?\") */\n",
       "\n",
       "/* Common style for \"i\" and \"?\" */\n",
       "\n",
       ".sk-estimator-doc-link,\n",
       "a:link.sk-estimator-doc-link,\n",
       "a:visited.sk-estimator-doc-link {\n",
       "  float: right;\n",
       "  font-size: smaller;\n",
       "  line-height: 1em;\n",
       "  font-family: monospace;\n",
       "  background-color: var(--sklearn-color-background);\n",
       "  border-radius: 1em;\n",
       "  height: 1em;\n",
       "  width: 1em;\n",
       "  text-decoration: none !important;\n",
       "  margin-left: 1ex;\n",
       "  /* unfitted */\n",
       "  border: var(--sklearn-color-unfitted-level-1) 1pt solid;\n",
       "  color: var(--sklearn-color-unfitted-level-1);\n",
       "}\n",
       "\n",
       ".sk-estimator-doc-link.fitted,\n",
       "a:link.sk-estimator-doc-link.fitted,\n",
       "a:visited.sk-estimator-doc-link.fitted {\n",
       "  /* fitted */\n",
       "  border: var(--sklearn-color-fitted-level-1) 1pt solid;\n",
       "  color: var(--sklearn-color-fitted-level-1);\n",
       "}\n",
       "\n",
       "/* On hover */\n",
       "div.sk-estimator:hover .sk-estimator-doc-link:hover,\n",
       ".sk-estimator-doc-link:hover,\n",
       "div.sk-label-container:hover .sk-estimator-doc-link:hover,\n",
       ".sk-estimator-doc-link:hover {\n",
       "  /* unfitted */\n",
       "  background-color: var(--sklearn-color-unfitted-level-3);\n",
       "  color: var(--sklearn-color-background);\n",
       "  text-decoration: none;\n",
       "}\n",
       "\n",
       "div.sk-estimator.fitted:hover .sk-estimator-doc-link.fitted:hover,\n",
       ".sk-estimator-doc-link.fitted:hover,\n",
       "div.sk-label-container:hover .sk-estimator-doc-link.fitted:hover,\n",
       ".sk-estimator-doc-link.fitted:hover {\n",
       "  /* fitted */\n",
       "  background-color: var(--sklearn-color-fitted-level-3);\n",
       "  color: var(--sklearn-color-background);\n",
       "  text-decoration: none;\n",
       "}\n",
       "\n",
       "/* Span, style for the box shown on hovering the info icon */\n",
       ".sk-estimator-doc-link span {\n",
       "  display: none;\n",
       "  z-index: 9999;\n",
       "  position: relative;\n",
       "  font-weight: normal;\n",
       "  right: .2ex;\n",
       "  padding: .5ex;\n",
       "  margin: .5ex;\n",
       "  width: min-content;\n",
       "  min-width: 20ex;\n",
       "  max-width: 50ex;\n",
       "  color: var(--sklearn-color-text);\n",
       "  box-shadow: 2pt 2pt 4pt #999;\n",
       "  /* unfitted */\n",
       "  background: var(--sklearn-color-unfitted-level-0);\n",
       "  border: .5pt solid var(--sklearn-color-unfitted-level-3);\n",
       "}\n",
       "\n",
       ".sk-estimator-doc-link.fitted span {\n",
       "  /* fitted */\n",
       "  background: var(--sklearn-color-fitted-level-0);\n",
       "  border: var(--sklearn-color-fitted-level-3);\n",
       "}\n",
       "\n",
       ".sk-estimator-doc-link:hover span {\n",
       "  display: block;\n",
       "}\n",
       "\n",
       "/* \"?\"-specific style due to the `<a>` HTML tag */\n",
       "\n",
       "#sk-container-id-1 a.estimator_doc_link {\n",
       "  float: right;\n",
       "  font-size: 1rem;\n",
       "  line-height: 1em;\n",
       "  font-family: monospace;\n",
       "  background-color: var(--sklearn-color-background);\n",
       "  border-radius: 1rem;\n",
       "  height: 1rem;\n",
       "  width: 1rem;\n",
       "  text-decoration: none;\n",
       "  /* unfitted */\n",
       "  color: var(--sklearn-color-unfitted-level-1);\n",
       "  border: var(--sklearn-color-unfitted-level-1) 1pt solid;\n",
       "}\n",
       "\n",
       "#sk-container-id-1 a.estimator_doc_link.fitted {\n",
       "  /* fitted */\n",
       "  border: var(--sklearn-color-fitted-level-1) 1pt solid;\n",
       "  color: var(--sklearn-color-fitted-level-1);\n",
       "}\n",
       "\n",
       "/* On hover */\n",
       "#sk-container-id-1 a.estimator_doc_link:hover {\n",
       "  /* unfitted */\n",
       "  background-color: var(--sklearn-color-unfitted-level-3);\n",
       "  color: var(--sklearn-color-background);\n",
       "  text-decoration: none;\n",
       "}\n",
       "\n",
       "#sk-container-id-1 a.estimator_doc_link.fitted:hover {\n",
       "  /* fitted */\n",
       "  background-color: var(--sklearn-color-fitted-level-3);\n",
       "}\n",
       "</style><div id=\"sk-container-id-1\" class=\"sk-top-container\"><div class=\"sk-text-repr-fallback\"><pre>ColumnTransformer(transformers=[(&#x27;num&#x27;, MaxAbsScaler(),\n",
       "                                 [&#x27;attack&#x27;, &#x27;defense&#x27;, &#x27;sp_attack&#x27;,\n",
       "                                  &#x27;sp_defense&#x27;, &#x27;speed&#x27;, &#x27;total_bs&#x27;,\n",
       "                                  &#x27;capture_rt&#x27;, &#x27;attack_to_defense_ratio&#x27;]),\n",
       "                                (&#x27;cat&#x27;, OneHotEncoder(), [&#x27;type&#x27;])])</pre><b>In a Jupyter environment, please rerun this cell to show the HTML representation or trust the notebook. <br />On GitHub, the HTML representation is unable to render, please try loading this page with nbviewer.org.</b></div><div class=\"sk-container\" hidden><div class=\"sk-item sk-dashed-wrapped\"><div class=\"sk-label-container\"><div class=\"sk-label  sk-toggleable\"><input class=\"sk-toggleable__control sk-hidden--visually\" id=\"sk-estimator-id-1\" type=\"checkbox\" ><label for=\"sk-estimator-id-1\" class=\"sk-toggleable__label  sk-toggleable__label-arrow \">&nbsp;&nbsp;ColumnTransformer<a class=\"sk-estimator-doc-link \" rel=\"noreferrer\" target=\"_blank\" href=\"https://scikit-learn.org/1.5/modules/generated/sklearn.compose.ColumnTransformer.html\">?<span>Documentation for ColumnTransformer</span></a><span class=\"sk-estimator-doc-link \">i<span>Not fitted</span></span></label><div class=\"sk-toggleable__content \"><pre>ColumnTransformer(transformers=[(&#x27;num&#x27;, MaxAbsScaler(),\n",
       "                                 [&#x27;attack&#x27;, &#x27;defense&#x27;, &#x27;sp_attack&#x27;,\n",
       "                                  &#x27;sp_defense&#x27;, &#x27;speed&#x27;, &#x27;total_bs&#x27;,\n",
       "                                  &#x27;capture_rt&#x27;, &#x27;attack_to_defense_ratio&#x27;]),\n",
       "                                (&#x27;cat&#x27;, OneHotEncoder(), [&#x27;type&#x27;])])</pre></div> </div></div><div class=\"sk-parallel\"><div class=\"sk-parallel-item\"><div class=\"sk-item\"><div class=\"sk-label-container\"><div class=\"sk-label  sk-toggleable\"><input class=\"sk-toggleable__control sk-hidden--visually\" id=\"sk-estimator-id-2\" type=\"checkbox\" ><label for=\"sk-estimator-id-2\" class=\"sk-toggleable__label  sk-toggleable__label-arrow \">num</label><div class=\"sk-toggleable__content \"><pre>[&#x27;attack&#x27;, &#x27;defense&#x27;, &#x27;sp_attack&#x27;, &#x27;sp_defense&#x27;, &#x27;speed&#x27;, &#x27;total_bs&#x27;, &#x27;capture_rt&#x27;, &#x27;attack_to_defense_ratio&#x27;]</pre></div> </div></div><div class=\"sk-serial\"><div class=\"sk-item\"><div class=\"sk-estimator  sk-toggleable\"><input class=\"sk-toggleable__control sk-hidden--visually\" id=\"sk-estimator-id-3\" type=\"checkbox\" ><label for=\"sk-estimator-id-3\" class=\"sk-toggleable__label  sk-toggleable__label-arrow \">&nbsp;MaxAbsScaler<a class=\"sk-estimator-doc-link \" rel=\"noreferrer\" target=\"_blank\" href=\"https://scikit-learn.org/1.5/modules/generated/sklearn.preprocessing.MaxAbsScaler.html\">?<span>Documentation for MaxAbsScaler</span></a></label><div class=\"sk-toggleable__content \"><pre>MaxAbsScaler()</pre></div> </div></div></div></div></div><div class=\"sk-parallel-item\"><div class=\"sk-item\"><div class=\"sk-label-container\"><div class=\"sk-label  sk-toggleable\"><input class=\"sk-toggleable__control sk-hidden--visually\" id=\"sk-estimator-id-4\" type=\"checkbox\" ><label for=\"sk-estimator-id-4\" class=\"sk-toggleable__label  sk-toggleable__label-arrow \">cat</label><div class=\"sk-toggleable__content \"><pre>[&#x27;type&#x27;]</pre></div> </div></div><div class=\"sk-serial\"><div class=\"sk-item\"><div class=\"sk-estimator  sk-toggleable\"><input class=\"sk-toggleable__control sk-hidden--visually\" id=\"sk-estimator-id-5\" type=\"checkbox\" ><label for=\"sk-estimator-id-5\" class=\"sk-toggleable__label  sk-toggleable__label-arrow \">&nbsp;OneHotEncoder<a class=\"sk-estimator-doc-link \" rel=\"noreferrer\" target=\"_blank\" href=\"https://scikit-learn.org/1.5/modules/generated/sklearn.preprocessing.OneHotEncoder.html\">?<span>Documentation for OneHotEncoder</span></a></label><div class=\"sk-toggleable__content \"><pre>OneHotEncoder()</pre></div> </div></div></div></div></div></div></div></div></div>"
      ],
      "text/plain": [
       "ColumnTransformer(transformers=[('num', MaxAbsScaler(),\n",
       "                                 ['attack', 'defense', 'sp_attack',\n",
       "                                  'sp_defense', 'speed', 'total_bs',\n",
       "                                  'capture_rt', 'attack_to_defense_ratio']),\n",
       "                                ('cat', OneHotEncoder(), ['type'])])"
      ]
     },
     "execution_count": 35,
     "metadata": {},
     "output_type": "execute_result"
    }
   ],
   "source": [
    "preprocessor"
   ]
  },
  {
   "cell_type": "markdown",
   "id": "a72c9d86-7fb5-4e3f-913a-9406a3aca34d",
   "metadata": {},
   "source": [
    "### Prepare the training data"
   ]
  },
  {
   "cell_type": "code",
   "execution_count": 38,
   "id": "49aeb97f-35bc-47e0-b7d5-40b566202709",
   "metadata": {},
   "outputs": [],
   "source": [
    "from sklearn.model_selection import train_test_split\n",
    "\n",
    "# Transform the data\n",
    "X_transformed = preprocessor.fit_transform(X)\n",
    "\n",
    "# Train-test split\n",
    "# Step 1: First train-test split to create training and temporary sets\n",
    "# X_transformed: Preprocessed feature data\n",
    "# y: Target labels\n",
    "# test_size=0.3: Reserve 30% of the data for validation and test sets\n",
    "# random_state=42: Ensures reproducibility of the splits\n",
    "# stratify=y: Maintains the class distribution in the split\n",
    "X_train, X_temp, y_train, y_temp = train_test_split(\n",
    "    X_transformed, y, test_size=0.3, random_state=42, stratify=y\n",
    ")\n",
    "\n",
    "# Result:\n",
    "# - X_train, y_train: Training set (70% of the data)\n",
    "# - X_temp, y_temp: Temporary set (30% of the data)\n",
    "\n",
    "# Step 2: Second split to create validation and test sets from the temporary set\n",
    "# test_size=0.5: Splits the remaining 30% of the data equally into validation (15%) and test (15%) sets\n",
    "# random_state=42: Ensures reproducibility\n",
    "# stratify=y_temp: Maintains the class distribution in the split\n",
    "X_val, X_test, y_val, y_test = train_test_split(X_temp, y_temp, test_size=0.5, random_state=42, stratify=y_temp)"
   ]
  },
  {
   "cell_type": "markdown",
   "id": "1655cee9",
   "metadata": {},
   "source": [
    "## Step 3: Logistic Regression"
   ]
  },
  {
   "cell_type": "code",
   "execution_count": 41,
   "id": "effbbdcb",
   "metadata": {},
   "outputs": [
    {
     "name": "stdout",
     "output_type": "stream",
     "text": [
      "Logistic Regression - Validation Performance:\n",
      "              precision    recall  f1-score   support\n",
      "\n",
      "           0       0.96      0.99      0.97       110\n",
      "           1       0.83      0.50      0.62        10\n",
      "\n",
      "    accuracy                           0.95       120\n",
      "   macro avg       0.89      0.75      0.80       120\n",
      "weighted avg       0.95      0.95      0.94       120\n",
      "\n",
      "Validation AUC: 0.9855\n",
      "Validation accuracy: 0.9500\n"
     ]
    }
   ],
   "source": [
    "from sklearn.linear_model import LogisticRegression\n",
    "from sklearn.metrics import classification_report, roc_auc_score\n",
    "from sklearn.metrics import accuracy_score\n",
    "\n",
    "# Train Logistic Regression\n",
    "logistic_model = LogisticRegression(max_iter=300, random_state=42)\n",
    "logistic_model.fit(X_train, y_train)\n",
    "\n",
    "y_val_prob_logistic = logistic_model.predict_proba(X_val)[:, 1]\n",
    "auc_val_logistic = roc_auc_score(y_val, y_val_prob_logistic)\n",
    "\n",
    "y_val_pred_logistic = logistic_model.predict(X_val)\n",
    "accuracy_score_logistic = accuracy_score(y_val, y_val_pred_logistic)  # Use predicted labels here\n",
    "\n",
    "\n",
    "\n",
    "\n",
    "print(\"Logistic Regression - Validation Performance:\")\n",
    "print(classification_report(y_val, y_val_pred_logistic))\n",
    "print(f\"Validation AUC: {auc_val_logistic:.4f}\")\n",
    "print(f\"Validation accuracy: {accuracy_score_logistic:.4f}\")"
   ]
  },
  {
   "cell_type": "markdown",
   "id": "444ac0fd",
   "metadata": {},
   "source": [
    "## Step 4: Multi-Layer Perceptron (MLP)"
   ]
  },
  {
   "cell_type": "code",
   "execution_count": 48,
   "id": "602ab8bf",
   "metadata": {},
   "outputs": [
    {
     "name": "stdout",
     "output_type": "stream",
     "text": [
      "MLP Classifier - Validation Performance:\n",
      "              precision    recall  f1-score   support\n",
      "\n",
      "           0       0.99      0.98      0.99       110\n",
      "           1       0.82      0.90      0.86        10\n",
      "\n",
      "    accuracy                           0.97       120\n",
      "   macro avg       0.90      0.94      0.92       120\n",
      "weighted avg       0.98      0.97      0.98       120\n",
      "\n",
      "Validation AUC: 0.9732\n",
      "Validation accuracy: 0.9750\n"
     ]
    },
    {
     "name": "stderr",
     "output_type": "stream",
     "text": [
      "C:\\Users\\ssale\\anaconda3\\Lib\\site-packages\\sklearn\\neural_network\\_multilayer_perceptron.py:690: ConvergenceWarning: Stochastic Optimizer: Maximum iterations (500) reached and the optimization hasn't converged yet.\n",
      "  warnings.warn(\n"
     ]
    }
   ],
   "source": [
    "from sklearn.neural_network import MLPClassifier\n",
    "\n",
    "# Train MLP Classifier\n",
    "# mlp_model = MLPClassifier(hidden_layer_sizes=(3, 2), activation='relu', solver='adam', max_iter=500, random_state=42)\n",
    "mlp_model = MLPClassifier(hidden_layer_sizes=(3, 2), activation='relu', max_iter=500, random_state=42)\n",
    "mlp_model.fit(X_train, y_train)\n",
    "\n",
    "# Evaluate MLP Classifier\n",
    "y_val_pred_mlp = mlp_model.predict(X_val)\n",
    "accuracy_score_mlp = accuracy_score(y_val, y_val_pred_mlp)\n",
    "\n",
    "y_val_prob_mlp = mlp_model.predict_proba(X_val)[:, 1]\n",
    "auc_val_mlp = roc_auc_score(y_val, y_val_prob_mlp)\n",
    "\n",
    "print(\"MLP Classifier - Validation Performance:\")\n",
    "print(classification_report(y_val, y_val_pred_mlp))\n",
    "print(f\"Validation AUC: {auc_val_mlp:.4f}\")\n",
    "print(f\"Validation accuracy: {accuracy_score_mlp:.4f}\")"
   ]
  },
  {
   "cell_type": "markdown",
   "id": "86b5ac1c",
   "metadata": {},
   "source": [
    "## Step 5: Comparison of Models - Training Loss Curve"
   ]
  },
  {
   "cell_type": "markdown",
   "id": "9ae23630-0dba-476f-81ad-ab35a8a938db",
   "metadata": {},
   "source": [
    "### Manually record the loss of logistic regression"
   ]
  },
  {
   "cell_type": "code",
   "execution_count": 75,
   "id": "0633829e-745e-427b-b877-c9069f48c638",
   "metadata": {},
   "outputs": [
    {
     "data": {
      "image/png": "[encoded data removed]",
      "text/plain": [
       "<Figure size 800x600 with 1 Axes>"
      ]
     },
     "metadata": {},
     "output_type": "display_data"
    }
   ],
   "source": [
    "# Extract loss during MLP training\n",
    "mlp_model_loss_curve = mlp_model.loss_curve_\n",
    "Logic_loss = loss_curve\n",
    "\n",
    "# Plot the loss difference during MLP training and Logistic\n",
    "plt.figure(figsize=(8, 6))\n",
    "plt.plot(range(1, len(Logic_loss) + 1), Logic_loss, label=\"Logistic Loss Curve\")\n",
    "plt.plot(mlp_model_loss_curve, label=\"MLP Loss Curve\")\n",
    "plt.xlabel(\"Iterations\")\n",
    "plt.ylabel(\"Loss\")\n",
    "yourname = \"Ajeje\"\n",
    "plt.title(yourname+\": Training Loss Over Iterations\")\n",
    "plt.grid()\n",
    "plt.legend()\n",
    "plt.show()"
   ]
  },
  {
   "cell_type": "code",
   "execution_count": null,
   "id": "fc460480-f995-46df-9419-e04606db0062",
   "metadata": {},
   "outputs": [],
   "source": [
    "import matplotlib.pyplot as plt\n",
    "from sklearn.metrics import roc_curve\n",
    "\n",
    "# Plot ROC curves\n",
    "fpr_logistic, tpr_logistic, _ = roc_curve(y_val, y_val_prob_logistic)\n",
    "fpr_mlp, tpr_mlp, _ = roc_curve(y_val, y_val_prob_mlp)\n",
    "\n",
    "plt.figure(figsize=(10, 6))\n",
    "plt.plot(fpr_logistic, tpr_logistic, label=f\"Logistic Regression (AUC = {auc_val_logistic:.2f})\")\n",
    "plt.plot(fpr_mlp, tpr_mlp, label=f\"MLP Classifier (AUC = {auc_val_mlp:.2f})\")\n",
    "plt.title(\"ROC Curve Comparison\")\n",
    "plt.xlabel(\"False Positive Rate\")\n",
    "plt.ylabel(\"True Positive Rate\")\n",
    "plt.legend(loc=\"lower right\")\n",
    "plt.grid()\n",
    "plt.show()"
   ]
  },
  {
   "cell_type": "markdown",
   "id": "c4878c82",
   "metadata": {},
   "source": [
    "## Conclusion\n",
    "- Logistic Regression is a simpler model but might perform comparably on well-processed datasets.\n",
    "- MLP leverages neural network architecture, potentially achieving better results for complex data.\n",
    "- AUC-ROC curves are helpful for comparing models' classification performance at different thresholds."
   ]
  },
  {
   "cell_type": "markdown",
   "id": "63f17bd0",
   "metadata": {},
   "source": [
    "## Step 6: Visualization of Predictions and Loss"
   ]
  },
  {
   "cell_type": "markdown",
   "id": "23617576",
   "metadata": {},
   "source": [
    "### 6.1 Actual vs Predicted Results"
   ]
  },
  {
   "cell_type": "code",
   "execution_count": 60,
   "id": "eedafb4a-13ed-4d69-bd32-8e0204018137",
   "metadata": {},
   "outputs": [
    {
     "data": {
      "image/png": "[encoded data removed]",
      "text/plain": [
       "<Figure size 640x480 with 1 Axes>"
      ]
     },
     "metadata": {},
     "output_type": "display_data"
    }
   ],
   "source": [
    "plt.scatter(range(len(y_val)), y_val, color='blue', alpha=0.6, label=\"Actual Values\", s=15)\n",
    "plt.title(\"Actual results\")\n",
    "plt.xlabel(\"Sample Index\")\n",
    "plt.ylabel(\"Legendary (1) or Not (0)\")\n",
    "plt.legend()\n",
    "plt.show()"
   ]
  },
  {
   "cell_type": "code",
   "execution_count": 62,
   "id": "3a1d2a5f-c29e-497b-ba0c-331dd015634f",
   "metadata": {},
   "outputs": [
    {
     "data": {
      "image/png": "[encoded data removed]",
      "text/plain": [
       "<Figure size 640x480 with 1 Axes>"
      ]
     },
     "metadata": {},
     "output_type": "display_data"
    }
   ],
   "source": [
    "\n",
    "plt.scatter(range(len(y_val)), y_val_pred_logistic, color='red', alpha=0.6, label=\"Predicted (Logistic Regression)\", s=15)\n",
    "plt.title(\"Ajeje +  Predicted (Logistic Regression)\")\n",
    "plt.xlabel(\"Sample Index\")\n",
    "plt.ylabel(\"Legendary (1) or Not (0)\")\n",
    "plt.legend()\n",
    "plt.show()"
   ]
  },
  {
   "cell_type": "code",
   "execution_count": 64,
   "id": "c5f00bd4-db72-4ad8-8665-230f4915405a",
   "metadata": {},
   "outputs": [
    {
     "data": {
      "text/plain": [
       "<matplotlib.legend.Legend at 0x2256c80fc20>"
      ]
     },
     "execution_count": 64,
     "metadata": {},
     "output_type": "execute_result"
    },
    {
     "data": {
      "image/png": "[encoded data removed]",
      "text/plain": [
       "<Figure size 640x480 with 1 Axes>"
      ]
     },
     "metadata": {},
     "output_type": "display_data"
    }
   ],
   "source": [
    "plt.scatter(range(len(y_val)), y_val_pred_mlp, color='green', alpha=0.6, label=\"Predicted (MLP)\", s=15)\n",
    "plt.title(\"Predicted (MLP)\")\n",
    "plt.xlabel(\"Sample Index\")\n",
    "plt.ylabel(\"Legendary (1) or Not (0)\")\n",
    "plt.legend()"
   ]
  },
  {
   "cell_type": "code",
   "execution_count": 66,
   "id": "57bbc029-fb64-4d12-9d55-aa8d9f9f496c",
   "metadata": {},
   "outputs": [
    {
     "data": {
      "image/png": "[encoded data removed]",
      "text/plain": [
       "<Figure size 640x480 with 1 Axes>"
      ]
     },
     "metadata": {},
     "output_type": "display_data"
    }
   ],
   "source": [
    "import matplotlib.pyplot as plt\n",
    "\n",
    "# Identify error indices for Logistic Regression\n",
    "errors_logistic = (y_val != y_val_pred_logistic)\n",
    "\n",
    "# Identify error indices for MLP\n",
    "errors_mlp = (y_val != y_val_pred_mlp)\n",
    "\n",
    "# Plot the actual values at error indices\n",
    "plt.scatter(\n",
    "    np.where(errors_logistic)[0],  # Indices of errors for Logistic Regression\n",
    "    y_val[errors_logistic],  # Actual values where Logistic Regression fails\n",
    "    color='blue', alpha=0.6, label=\"Actual Values (Errors for Logistic Regression)\", s=15\n",
    ")\n",
    "\n",
    "# # Plot the Logistic Regression predictions at error indices\n",
    "plt.scatter(\n",
    "    np.where(errors_logistic)[0],  # Indices of errors for Logistic Regression\n",
    "    y_val_pred_logistic[errors_logistic],  # Predicted values where errors occur\n",
    "    color='red', alpha=0.6, label=\"Predicted (Logistic Regression Errors)\", s=15\n",
    ")\n",
    "\n",
    "# # Plot the MLP predictions at error indices\n",
    "plt.scatter(\n",
    "    np.where(errors_mlp)[0],  # Indices of errors for MLP\n",
    "    y_val_pred_mlp[errors_mlp],  # Predicted values where errors occur\n",
    "    color='green', alpha=0.6, label=\"Predicted (MLP Errors)\", s=15\n",
    ")\n",
    "\n",
    "# Add plot details\n",
    "plt.xlabel(\"Index\")\n",
    "plt.ylabel(\"Values\")\n",
    "plt.title(\"Ajeje +  Error Points for Logistic Regression and MLP\")\n",
    "plt.legend()\n",
    "plt.show()\n"
   ]
  },
  {
   "cell_type": "markdown",
   "id": "c130bacc-cf92-4d5b-afeb-c60d16363459",
   "metadata": {},
   "source": [
    "### Confusion Matrices"
   ]
  },
  {
   "cell_type": "code",
   "execution_count": 69,
   "id": "1a3da9ce-c38d-4982-b238-61e348f95855",
   "metadata": {},
   "outputs": [
    {
     "data": {
      "image/png": "[encoded data removed]",
      "text/plain": [
       "<Figure size 800x600 with 2 Axes>"
      ]
     },
     "metadata": {},
     "output_type": "display_data"
    }
   ],
   "source": [
    "from sklearn.metrics import confusion_matrix\n",
    "import seaborn as sns\n",
    "# Logistic Regression\n",
    "cm_logistic = confusion_matrix(y_val, y_val_pred_logistic)\n",
    "plt.figure(figsize=(8, 6))\n",
    "sns.heatmap(cm_logistic, annot=True, fmt=\"d\", cmap=\"Blues\")\n",
    "plt.title(\"Ajeje + Confusion Matrix: Logistic Regression\")\n",
    "plt.xlabel(\"Predicted Label\")\n",
    "plt.ylabel(\"True Label\")\n",
    "plt.show()"
   ]
  },
  {
   "cell_type": "code",
   "execution_count": 70,
   "id": "cdadff2d-a5bd-4bb2-b166-5e151a2bd17a",
   "metadata": {},
   "outputs": [
    {
     "data": {
      "image/png": "[encoded data removed]",
      "text/plain": [
       "<Figure size 800x600 with 2 Axes>"
      ]
     },
     "metadata": {},
     "output_type": "display_data"
    }
   ],
   "source": [
    "# MLP\n",
    "cm_mlp = confusion_matrix(y_val, y_val_pred_mlp)\n",
    "plt.figure(figsize=(8, 6))\n",
    "sns.heatmap(cm_mlp, annot=True, fmt=\"d\", cmap=\"Greens\")\n",
    "plt.title(\"Ajeje + Confusion Matrix: MLP Classifier\")\n",
    "plt.xlabel(\"Predicted Label\")\n",
    "plt.ylabel(\"True Label\")\n",
    "plt.show()"
   ]
  }
 ],
 "metadata": {
  "kernelspec": {
   "display_name": "Python [conda env:base] *",
   "language": "python",
   "name": "conda-base-py"
  },
  "language_info": {
   "codemirror_mode": {
    "name": "ipython",
    "version": 3
   },
   "file_extension": ".py",
   "mimetype": "text/x-python",
   "name": "python",
   "nbconvert_exporter": "python",
   "pygments_lexer": "ipython3",
   "version": "3.12.7"
  }
 },
 "nbformat": 4,
 "nbformat_minor": 5
}
